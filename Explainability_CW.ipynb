{
  "cells": [
    {
      "cell_type": "markdown",
      "metadata": {
        "id": "view-in-github",
        "colab_type": "text"
      },
      "source": [
        "<a href=\"https://colab.research.google.com/github/Parvfect/Fairness-AI/blob/master/Explainability_CW.ipynb\" target=\"_parent\"><img src=\"https://colab.research.google.com/assets/colab-badge.svg\" alt=\"Open In Colab\"/></a>"
      ]
    },
    {
      "cell_type": "markdown",
      "metadata": {
        "id": "b4907a9b-7f61-4e03-a118-3ca33156b516"
      },
      "source": [
        "# Ethics, Fairness and Explanation in AI Coursework"
      ],
      "id": "b4907a9b-7f61-4e03-a118-3ca33156b516"
    },
    {
      "cell_type": "markdown",
      "metadata": {
        "id": "18977034-9183-47c7-993e-9b105ebaf8bc"
      },
      "source": [
        "Your goal in this coursework is to implement and experiment with various explainability approaches in order to better understand the behaviour of a neural model applied to the Titanic dataset. As you will have a chance to observe, the dataset reflects some of the past social conventions and biases, which also affect the trained model. Explanations can serve as very useful tools for identifying such potential issues and gaining insight into the internal reasoning of machine learning systems."
      ],
      "id": "18977034-9183-47c7-993e-9b105ebaf8bc"
    },
    {
      "cell_type": "markdown",
      "metadata": {
        "id": "4c54e2fe-cc8f-4b0d-852a-474e43b5b060"
      },
      "source": [
        "## Data Loading and Preprocessing"
      ],
      "id": "4c54e2fe-cc8f-4b0d-852a-474e43b5b060"
    },
    {
      "cell_type": "markdown",
      "metadata": {
        "id": "4f683e86-6c7d-4ce1-9cc9-a3ec171824d8"
      },
      "source": [
        "We start by defining some helpful utility functions for data preprocessing. You will probably not need to change this code."
      ],
      "id": "4f683e86-6c7d-4ce1-9cc9-a3ec171824d8"
    },
    {
      "cell_type": "code",
      "execution_count": null,
      "metadata": {
        "colab": {
          "base_uri": "https://localhost:8080/"
        },
        "id": "8d7yLQ8sGhxi",
        "outputId": "1728a4f7-0e13-4006-8d10-b1bdb674a2b5"
      },
      "outputs": [
        {
          "name": "stdout",
          "output_type": "stream",
          "text": [
            "Mounted at /content/drive\n",
            "/content/drive/MyDrive\n"
          ]
        }
      ],
      "source": [
        "from google.colab import drive\n",
        "drive.mount('/content/drive')\n",
        "\n",
        "%cd drive/MyDrive/\n"
      ],
      "id": "8d7yLQ8sGhxi"
    },
    {
      "cell_type": "code",
      "execution_count": null,
      "metadata": {
        "id": "e3853c0d-4ab5-41dc-a409-ef3b7dab0911"
      },
      "outputs": [],
      "source": [
        "import numpy as np\n",
        "import pandas as pd\n",
        "import warnings\n",
        "\n",
        "from sklearn.compose import ColumnTransformer\n",
        "from sklearn.pipeline import Pipeline\n",
        "from sklearn.preprocessing import RobustScaler, OneHotEncoder\n",
        "from sklearn.utils import resample\n",
        "\n",
        "\n",
        "class InvertibleColumnTransformer(ColumnTransformer):\n",
        "    \"\"\"\n",
        "    This is an invertible version of a ColumnTransformer from sklearn.\n",
        "    This allows us to recover the original feature values from their normalised\n",
        "    versions in order to better understand the produced explanations.\n",
        "    \"\"\"\n",
        "    def inverse_transform(self, X):\n",
        "        if X.ndim == 1:\n",
        "            X = np.expand_dims(X, axis=0)\n",
        "        if X.shape[1] != len(self.get_feature_names_out()):\n",
        "            raise ValueError(\n",
        "                \"X and the fitted transformer have different numbers of columns\"\n",
        "            )\n",
        "\n",
        "        inverted_X_base = np.zeros((X.shape[0], self.n_features_in_))\n",
        "        columns = [c for cs in self._columns for c in cs]\n",
        "        inverted_X = pd.DataFrame(data=inverted_X_base, columns=columns)\n",
        "        inverted_X = inverted_X.astype('object')\n",
        "        for name, indices in self.output_indices_.items():\n",
        "            transformer = self.named_transformers_.get(name, None)\n",
        "            if transformer is None:\n",
        "                continue\n",
        "\n",
        "            selected_X = X[:, indices.start : indices.stop]\n",
        "            if isinstance(transformer, OneHotEncoder):\n",
        "                # Assumed only one column changing encoder at the end\n",
        "                categories = transformer.inverse_transform(selected_X)\n",
        "                inverted_X.loc[\n",
        "                    :, columns[indices.start : indices.start + len(categories[0])]\n",
        "                ] = categories\n",
        "            else:\n",
        "                # Assumed scaler-type transformer\n",
        "                inverted_X.loc[\n",
        "                    :, [columns[i] for i in range(indices.start, indices.stop)]\n",
        "                ] = transformer.inverse_transform(selected_X)\n",
        "\n",
        "        return inverted_X\n",
        "\n",
        "\n",
        "def preprocess_train_data(\n",
        "    df,\n",
        "    scaled_features=None,\n",
        "    categorical_features=None,\n",
        "    scaler=RobustScaler(quantile_range=(10, 90)),\n",
        "    categorical_encoder=OneHotEncoder(handle_unknown=\"ignore\"),\n",
        "):\n",
        "    \"\"\"\n",
        "    Scales the continuous features using a RobustScaler and one-hot encodes\n",
        "    the categorical features.\n",
        "    \"\"\"\n",
        "    if scaled_features is None and categorical_features is None:\n",
        "        warnings.warn(\"No features specified for preprocessing, using raw data.\")\n",
        "        scaled_features = []\n",
        "        categorical_features = []\n",
        "    elif scaled_features is None:\n",
        "        scaled_features = [c for c in df.columns if c not in categorical_features]\n",
        "    elif categorical_features is None:\n",
        "        categorical_features = [c for c in df.columns if c not in scaled_features]\n",
        "\n",
        "    preprocessor = InvertibleColumnTransformer(\n",
        "        transformers=[\n",
        "            (\"num\", scaler, scaled_features),\n",
        "            (\"cat\", categorical_encoder, categorical_features),\n",
        "        ],\n",
        "        remainder=\"passthrough\",\n",
        "    )\n",
        "\n",
        "    preprocessed_df = preprocessor.fit_transform(df)\n",
        "    return preprocessed_df, preprocessor\n",
        "\n",
        "\n",
        "def preprocess_test_data(df, preprocessor):\n",
        "    preprocessed_df = preprocessor.transform(df)\n",
        "    return preprocessed_df"
      ],
      "id": "e3853c0d-4ab5-41dc-a409-ef3b7dab0911"
    },
    {
      "cell_type": "markdown",
      "metadata": {
        "id": "df35c3a2-09c0-4a14-9f83-e81db1d544a1"
      },
      "source": [
        "Here, we define a class for the Titanic dataset, which we will be using throughout the coursework."
      ],
      "id": "df35c3a2-09c0-4a14-9f83-e81db1d544a1"
    },
    {
      "cell_type": "code",
      "execution_count": null,
      "metadata": {
        "id": "22f7f44d-1cbe-4e25-9f7c-7bbe8c2d4cc6"
      },
      "outputs": [],
      "source": [
        "import os\n",
        "import pandas as pd\n",
        "import torch\n",
        "\n",
        "from sklearn.model_selection import train_test_split\n",
        "from torch.utils.data import Dataset, DataLoader\n",
        "\n",
        "\n",
        "class TitanicDataset(Dataset):\n",
        "    \"\"\"\n",
        "    Loads and preprocesses the Titanic dataset.\n",
        "    \"\"\"\n",
        "    __create_key = object()\n",
        "\n",
        "    @classmethod\n",
        "    def create_datasets(\n",
        "        cls,\n",
        "        label_name=\"survived\",\n",
        "        split_seed=42,\n",
        "        test_size=0.2,\n",
        "    ):\n",
        "        train_dataset = TitanicDataset(\n",
        "            cls.__create_key,\n",
        "            label_name=label_name,\n",
        "            split_seed=split_seed,\n",
        "            test_size=test_size,\n",
        "            train=True,\n",
        "        )\n",
        "        test_dataset = TitanicDataset(\n",
        "            cls.__create_key,\n",
        "            label_name=label_name,\n",
        "            split_seed=split_seed,\n",
        "            test_size=test_size,\n",
        "            train=False,\n",
        "        )\n",
        "        return train_dataset, test_dataset\n",
        "\n",
        "    def __init__(\n",
        "        self,\n",
        "        create_key=None,\n",
        "        label_name=\"Survived\",\n",
        "        split_seed=42,\n",
        "        test_size=0.2,\n",
        "        train=True,\n",
        "    ):\n",
        "        # Ensure that the dataset is being constructed properly\n",
        "        if create_key != TitanicDataset.__create_key:\n",
        "            raise ValueError(\n",
        "                \"Illegal initialisation attempt — please use create_datasets to initialise.\"\n",
        "            )\n",
        "\n",
        "        try:\n",
        "            data_df = pd.read_csv(\"titanic-dataset.csv\")\n",
        "        except FileNotFoundError:\n",
        "            raise FileNotFoundError(\"Titanic data file not found.\")\n",
        "\n",
        "        # Split the dataset into train and test\n",
        "        x = data_df.drop(columns=[label_name, \"name\", \"ticket\", \"cabin\", \"embarked\", \"boat\", \"body\", \"home.dest\"])\n",
        "        # For the purposes of this coursework, we just impute the missing age and fare with a median value\n",
        "        x[['age']] = x[['age']].fillna(x[['age']].median())\n",
        "        x[['fare']] = x[['fare']].fillna(x[['fare']].median())\n",
        "        y = data_df[label_name]\n",
        "        x_train, x_test, y_train, y_test = train_test_split(\n",
        "            x, y, test_size=test_size, random_state=split_seed, shuffle=True\n",
        "        )\n",
        "        if train:\n",
        "            self.raw_data = x_train, y_train\n",
        "        else:\n",
        "            self.raw_data = x_test, y_test\n",
        "\n",
        "        # Preprocess the data\n",
        "        x_train_processed, preprocessor = preprocess_train_data(\n",
        "            x_train, categorical_features=[\"sex\"]\n",
        "        )\n",
        "        x_train = pd.DataFrame(\n",
        "            x_train_processed, columns=preprocessor.get_feature_names_out()\n",
        "        )\n",
        "        x_test_processed = preprocess_test_data(x_test, preprocessor)\n",
        "        x_test = pd.DataFrame(\n",
        "            x_test_processed, columns=preprocessor.get_feature_names_out()\n",
        "        )\n",
        "\n",
        "        # Select data partition and convert to tensors\n",
        "        if train:\n",
        "            samples = x_train\n",
        "            labels = y_train\n",
        "        else:\n",
        "            samples = x_test\n",
        "            labels = y_test\n",
        "        self.samples = torch.tensor(samples.to_numpy(), dtype=torch.float32)\n",
        "        self.labels = torch.tensor(labels.to_numpy(), dtype=torch.long)\n",
        "        self.features = preprocessor.get_feature_names_out()\n",
        "        self.preprocessor = preprocessor\n",
        "\n",
        "    def __len__(self):\n",
        "        return len(self.samples)\n",
        "\n",
        "    def __getitem__(self, idx):\n",
        "        return self.samples[idx], self.labels[idx]"
      ],
      "id": "22f7f44d-1cbe-4e25-9f7c-7bbe8c2d4cc6"
    },
    {
      "cell_type": "markdown",
      "metadata": {
        "id": "c00c7c1f-81f5-4806-ad20-358a79df93e6"
      },
      "source": [
        "Finally, we call the code above to load and preprocess the data."
      ],
      "id": "c00c7c1f-81f5-4806-ad20-358a79df93e6"
    },
    {
      "cell_type": "code",
      "execution_count": null,
      "metadata": {
        "id": "2ae2d1e0-ddab-419b-b741-6d4d6b531bb8"
      },
      "outputs": [],
      "source": [
        "train_dataset, test_dataset = TitanicDataset.create_datasets(\n",
        "    test_size=0.2,\n",
        "    split_seed=42,\n",
        ")\n",
        "train_dl = DataLoader(\n",
        "    dataset=train_dataset,\n",
        "    batch_size=128,\n",
        "    shuffle=False,\n",
        ")\n",
        "test_dl = DataLoader(\n",
        "    dataset=test_dataset,\n",
        "    batch_size=64,\n",
        "    shuffle=False,\n",
        ")"
      ],
      "id": "2ae2d1e0-ddab-419b-b741-6d4d6b531bb8"
    },
    {
      "cell_type": "markdown",
      "metadata": {
        "id": "a4283a2e-986b-4554-89e3-3a0c4c152cbb"
      },
      "source": [
        "Note that the invertible transformer allows you to recover the original (unnormalised) feature values, as shown on the example below. You may find this helpful for understanding the produced explanations and commenting on them in your report."
      ],
      "id": "a4283a2e-986b-4554-89e3-3a0c4c152cbb"
    },
    {
      "cell_type": "code",
      "execution_count": null,
      "metadata": {
        "colab": {
          "base_uri": "https://localhost:8080/",
          "height": 80
        },
        "id": "88f85249-8c4b-46b0-a856-76c972f524e2",
        "outputId": "1275f31f-1ee8-4bec-dbc1-d33bf4d3934a"
      },
      "outputs": [
        {
          "data": {
            "application/vnd.google.colaboratory.intrinsic+json": {
              "summary": "{\n  \"name\": \"test_dataset\",\n  \"rows\": 1,\n  \"fields\": [\n    {\n      \"column\": \"pclass\",\n      \"properties\": {\n        \"dtype\": \"date\",\n        \"min\": 3.0,\n        \"max\": 3.0,\n        \"samples\": [\n          3.0\n        ],\n        \"num_unique_values\": 1,\n        \"semantic_type\": \"\",\n        \"description\": \"\"\n      }\n    },\n    {\n      \"column\": \"age\",\n      \"properties\": {\n        \"dtype\": \"date\",\n        \"min\": 35.0,\n        \"max\": 35.0,\n        \"samples\": [\n          35.0\n        ],\n        \"num_unique_values\": 1,\n        \"semantic_type\": \"\",\n        \"description\": \"\"\n      }\n    },\n    {\n      \"column\": \"sibsp\",\n      \"properties\": {\n        \"dtype\": \"date\",\n        \"min\": 0.0,\n        \"max\": 0.0,\n        \"samples\": [\n          0.0\n        ],\n        \"num_unique_values\": 1,\n        \"semantic_type\": \"\",\n        \"description\": \"\"\n      }\n    },\n    {\n      \"column\": \"parch\",\n      \"properties\": {\n        \"dtype\": \"date\",\n        \"min\": 0.0,\n        \"max\": 0.0,\n        \"samples\": [\n          0.0\n        ],\n        \"num_unique_values\": 1,\n        \"semantic_type\": \"\",\n        \"description\": \"\"\n      }\n    },\n    {\n      \"column\": \"fare\",\n      \"properties\": {\n        \"dtype\": \"date\",\n        \"min\": 7.124999523162842,\n        \"max\": 7.124999523162842,\n        \"samples\": [\n          7.124999523162842\n        ],\n        \"num_unique_values\": 1,\n        \"semantic_type\": \"\",\n        \"description\": \"\"\n      }\n    },\n    {\n      \"column\": \"sex\",\n      \"properties\": {\n        \"dtype\": \"string\",\n        \"samples\": [\n          \"male\"\n        ],\n        \"num_unique_values\": 1,\n        \"semantic_type\": \"\",\n        \"description\": \"\"\n      }\n    }\n  ]\n}",
              "type": "dataframe"
            },
            "text/html": [
              "\n",
              "  <div id=\"df-81d5afcf-f5fd-4d90-a46e-e8913b749e99\" class=\"colab-df-container\">\n",
              "    <div>\n",
              "<style scoped>\n",
              "    .dataframe tbody tr th:only-of-type {\n",
              "        vertical-align: middle;\n",
              "    }\n",
              "\n",
              "    .dataframe tbody tr th {\n",
              "        vertical-align: top;\n",
              "    }\n",
              "\n",
              "    .dataframe thead th {\n",
              "        text-align: right;\n",
              "    }\n",
              "</style>\n",
              "<table border=\"1\" class=\"dataframe\">\n",
              "  <thead>\n",
              "    <tr style=\"text-align: right;\">\n",
              "      <th></th>\n",
              "      <th>pclass</th>\n",
              "      <th>age</th>\n",
              "      <th>sibsp</th>\n",
              "      <th>parch</th>\n",
              "      <th>fare</th>\n",
              "      <th>sex</th>\n",
              "    </tr>\n",
              "  </thead>\n",
              "  <tbody>\n",
              "    <tr>\n",
              "      <th>0</th>\n",
              "      <td>3.0</td>\n",
              "      <td>35.0</td>\n",
              "      <td>0.0</td>\n",
              "      <td>0.0</td>\n",
              "      <td>7.125</td>\n",
              "      <td>male</td>\n",
              "    </tr>\n",
              "  </tbody>\n",
              "</table>\n",
              "</div>\n",
              "    <div class=\"colab-df-buttons\">\n",
              "\n",
              "  <div class=\"colab-df-container\">\n",
              "    <button class=\"colab-df-convert\" onclick=\"convertToInteractive('df-81d5afcf-f5fd-4d90-a46e-e8913b749e99')\"\n",
              "            title=\"Convert this dataframe to an interactive table.\"\n",
              "            style=\"display:none;\">\n",
              "\n",
              "  <svg xmlns=\"http://www.w3.org/2000/svg\" height=\"24px\" viewBox=\"0 -960 960 960\">\n",
              "    <path d=\"M120-120v-720h720v720H120Zm60-500h600v-160H180v160Zm220 220h160v-160H400v160Zm0 220h160v-160H400v160ZM180-400h160v-160H180v160Zm440 0h160v-160H620v160ZM180-180h160v-160H180v160Zm440 0h160v-160H620v160Z\"/>\n",
              "  </svg>\n",
              "    </button>\n",
              "\n",
              "  <style>\n",
              "    .colab-df-container {\n",
              "      display:flex;\n",
              "      gap: 12px;\n",
              "    }\n",
              "\n",
              "    .colab-df-convert {\n",
              "      background-color: #E8F0FE;\n",
              "      border: none;\n",
              "      border-radius: 50%;\n",
              "      cursor: pointer;\n",
              "      display: none;\n",
              "      fill: #1967D2;\n",
              "      height: 32px;\n",
              "      padding: 0 0 0 0;\n",
              "      width: 32px;\n",
              "    }\n",
              "\n",
              "    .colab-df-convert:hover {\n",
              "      background-color: #E2EBFA;\n",
              "      box-shadow: 0px 1px 2px rgba(60, 64, 67, 0.3), 0px 1px 3px 1px rgba(60, 64, 67, 0.15);\n",
              "      fill: #174EA6;\n",
              "    }\n",
              "\n",
              "    .colab-df-buttons div {\n",
              "      margin-bottom: 4px;\n",
              "    }\n",
              "\n",
              "    [theme=dark] .colab-df-convert {\n",
              "      background-color: #3B4455;\n",
              "      fill: #D2E3FC;\n",
              "    }\n",
              "\n",
              "    [theme=dark] .colab-df-convert:hover {\n",
              "      background-color: #434B5C;\n",
              "      box-shadow: 0px 1px 3px 1px rgba(0, 0, 0, 0.15);\n",
              "      filter: drop-shadow(0px 1px 2px rgba(0, 0, 0, 0.3));\n",
              "      fill: #FFFFFF;\n",
              "    }\n",
              "  </style>\n",
              "\n",
              "    <script>\n",
              "      const buttonEl =\n",
              "        document.querySelector('#df-81d5afcf-f5fd-4d90-a46e-e8913b749e99 button.colab-df-convert');\n",
              "      buttonEl.style.display =\n",
              "        google.colab.kernel.accessAllowed ? 'block' : 'none';\n",
              "\n",
              "      async function convertToInteractive(key) {\n",
              "        const element = document.querySelector('#df-81d5afcf-f5fd-4d90-a46e-e8913b749e99');\n",
              "        const dataTable =\n",
              "          await google.colab.kernel.invokeFunction('convertToInteractive',\n",
              "                                                    [key], {});\n",
              "        if (!dataTable) return;\n",
              "\n",
              "        const docLinkHtml = 'Like what you see? Visit the ' +\n",
              "          '<a target=\"_blank\" href=https://colab.research.google.com/notebooks/data_table.ipynb>data table notebook</a>'\n",
              "          + ' to learn more about interactive tables.';\n",
              "        element.innerHTML = '';\n",
              "        dataTable['output_type'] = 'display_data';\n",
              "        await google.colab.output.renderOutput(dataTable, element);\n",
              "        const docLink = document.createElement('div');\n",
              "        docLink.innerHTML = docLinkHtml;\n",
              "        element.appendChild(docLink);\n",
              "      }\n",
              "    </script>\n",
              "  </div>\n",
              "\n",
              "    </div>\n",
              "  </div>\n"
            ],
            "text/plain": [
              "  pclass   age sibsp parch   fare   sex\n",
              "0    3.0  35.0   0.0   0.0  7.125  male"
            ]
          },
          "execution_count": 5,
          "metadata": {},
          "output_type": "execute_result"
        }
      ],
      "source": [
        "test_dataset.preprocessor.inverse_transform(test_dataset.samples[0])"
      ],
      "id": "88f85249-8c4b-46b0-a856-76c972f524e2"
    },
    {
      "cell_type": "markdown",
      "metadata": {
        "id": "441756a7-f828-4764-af69-4eb84b63a975"
      },
      "source": [
        "## Exploratory Data Analysis"
      ],
      "id": "441756a7-f828-4764-af69-4eb84b63a975"
    },
    {
      "cell_type": "markdown",
      "metadata": {
        "id": "93538903-f8cc-4f39-9593-f0ee82096b75"
      },
      "source": [
        "When faced with a new dataset, it is a good practice to perform an exploratory data analysis in order to understand the basic trends in the data. This will also allow you to put the explanations you obtain as part of this coursework into the relevant context. We will use the raw, unnormalised features for this purpose, as they are much more intuitive and human-understandable."
      ],
      "id": "93538903-f8cc-4f39-9593-f0ee82096b75"
    },
    {
      "cell_type": "code",
      "execution_count": null,
      "metadata": {
        "id": "a82a5efb-2ce7-4428-a03f-ee0f61f6dca0"
      },
      "outputs": [],
      "source": [
        "x_train, y_train = train_dataset.raw_data\n",
        "x_train['survived'] = y_train\n",
        "data_df = x_train"
      ],
      "id": "a82a5efb-2ce7-4428-a03f-ee0f61f6dca0"
    },
    {
      "cell_type": "markdown",
      "metadata": {
        "id": "bdf759d8-e225-4482-a8ba-93d0a604d32e"
      },
      "source": [
        "We start by displaying the feature values and labels for a few samples. The dataset contains data regarding the survival of some of the passengers involved in the [Titanic maritime disaster](https://en.wikipedia.org/wiki/Sinking_of_the_Titanic). The features contained in the data are as follows:\n",
        "* `pclass`: Indicates the travelling class of the given passenger. Note that we treat this feature as numerical, as the different classes introduce a natural order.\n",
        "* `sex`: Indicates the sex of the passenger.\n",
        "* `age`: Provides the age of the passenger.\n",
        "* `sibsp`: Denotes the total number of siblings and spouses of the given passenger also travelling on RMS Titanic.\n",
        "* `parch`: Denotes the total number of parents or children of the given passenger also travelling on RMS Titanic.\n",
        "* `fare`: Indicates the fare paid by the passenger for the journey.\n",
        "* `survived`: The label indicating whether the patient survived the accident (1 = survived, 0 = did not survive).\n",
        "\n",
        "There are other features included in the original dataset (such aspassenger name or point of embarkation), but we choose to ignore them for the purposes of this coursework."
      ],
      "id": "bdf759d8-e225-4482-a8ba-93d0a604d32e"
    },
    {
      "cell_type": "code",
      "execution_count": null,
      "metadata": {
        "colab": {
          "base_uri": "https://localhost:8080/",
          "height": 419
        },
        "id": "9bc9b42a-9f57-4502-8d00-9fda6bdb34cf",
        "outputId": "3931b4ca-8131-46a1-cfeb-02178722888d"
      },
      "outputs": [
        {
          "data": {
            "application/vnd.google.colaboratory.intrinsic+json": {
              "summary": "{\n  \"name\": \"x_train\",\n  \"rows\": 1047,\n  \"fields\": [\n    {\n      \"column\": \"pclass\",\n      \"properties\": {\n        \"dtype\": \"number\",\n        \"std\": 0,\n        \"min\": 1,\n        \"max\": 3,\n        \"samples\": [\n          3,\n          2,\n          1\n        ],\n        \"num_unique_values\": 3,\n        \"semantic_type\": \"\",\n        \"description\": \"\"\n      }\n    },\n    {\n      \"column\": \"sex\",\n      \"properties\": {\n        \"dtype\": \"category\",\n        \"samples\": [\n          \"female\",\n          \"male\"\n        ],\n        \"num_unique_values\": 2,\n        \"semantic_type\": \"\",\n        \"description\": \"\"\n      }\n    },\n    {\n      \"column\": \"age\",\n      \"properties\": {\n        \"dtype\": \"number\",\n        \"std\": 12.791085719017605,\n        \"min\": 0.1667,\n        \"max\": 80.0,\n        \"samples\": [\n          67.0,\n          26.0\n        ],\n        \"num_unique_values\": 94,\n        \"semantic_type\": \"\",\n        \"description\": \"\"\n      }\n    },\n    {\n      \"column\": \"sibsp\",\n      \"properties\": {\n        \"dtype\": \"number\",\n        \"std\": 1,\n        \"min\": 0,\n        \"max\": 8,\n        \"samples\": [\n          0,\n          1\n        ],\n        \"num_unique_values\": 7,\n        \"semantic_type\": \"\",\n        \"description\": \"\"\n      }\n    },\n    {\n      \"column\": \"parch\",\n      \"properties\": {\n        \"dtype\": \"number\",\n        \"std\": 0,\n        \"min\": 0,\n        \"max\": 9,\n        \"samples\": [\n          2,\n          3\n        ],\n        \"num_unique_values\": 8,\n        \"semantic_type\": \"\",\n        \"description\": \"\"\n      }\n    },\n    {\n      \"column\": \"fare\",\n      \"properties\": {\n        \"dtype\": \"number\",\n        \"std\": 51.78830021912982,\n        \"min\": 0.0,\n        \"max\": 512.3292,\n        \"samples\": [\n          9.325,\n          25.925\n        ],\n        \"num_unique_values\": 262,\n        \"semantic_type\": \"\",\n        \"description\": \"\"\n      }\n    },\n    {\n      \"column\": \"survived\",\n      \"properties\": {\n        \"dtype\": \"number\",\n        \"std\": 0,\n        \"min\": 0,\n        \"max\": 1,\n        \"samples\": [\n          1,\n          0\n        ],\n        \"num_unique_values\": 2,\n        \"semantic_type\": \"\",\n        \"description\": \"\"\n      }\n    }\n  ]\n}",
              "type": "dataframe",
              "variable_name": "x_train"
            },
            "text/html": [
              "\n",
              "  <div id=\"df-7d61de52-831b-43ff-af12-01b9420d8d46\" class=\"colab-df-container\">\n",
              "    <div>\n",
              "<style scoped>\n",
              "    .dataframe tbody tr th:only-of-type {\n",
              "        vertical-align: middle;\n",
              "    }\n",
              "\n",
              "    .dataframe tbody tr th {\n",
              "        vertical-align: top;\n",
              "    }\n",
              "\n",
              "    .dataframe thead th {\n",
              "        text-align: right;\n",
              "    }\n",
              "</style>\n",
              "<table border=\"1\" class=\"dataframe\">\n",
              "  <thead>\n",
              "    <tr style=\"text-align: right;\">\n",
              "      <th></th>\n",
              "      <th>pclass</th>\n",
              "      <th>sex</th>\n",
              "      <th>age</th>\n",
              "      <th>sibsp</th>\n",
              "      <th>parch</th>\n",
              "      <th>fare</th>\n",
              "      <th>survived</th>\n",
              "    </tr>\n",
              "  </thead>\n",
              "  <tbody>\n",
              "    <tr>\n",
              "      <th>772</th>\n",
              "      <td>3</td>\n",
              "      <td>male</td>\n",
              "      <td>17.0</td>\n",
              "      <td>0</td>\n",
              "      <td>0</td>\n",
              "      <td>7.8958</td>\n",
              "      <td>0</td>\n",
              "    </tr>\n",
              "    <tr>\n",
              "      <th>543</th>\n",
              "      <td>2</td>\n",
              "      <td>male</td>\n",
              "      <td>36.0</td>\n",
              "      <td>0</td>\n",
              "      <td>0</td>\n",
              "      <td>10.5000</td>\n",
              "      <td>0</td>\n",
              "    </tr>\n",
              "    <tr>\n",
              "      <th>289</th>\n",
              "      <td>1</td>\n",
              "      <td>female</td>\n",
              "      <td>18.0</td>\n",
              "      <td>0</td>\n",
              "      <td>2</td>\n",
              "      <td>79.6500</td>\n",
              "      <td>1</td>\n",
              "    </tr>\n",
              "    <tr>\n",
              "      <th>10</th>\n",
              "      <td>1</td>\n",
              "      <td>male</td>\n",
              "      <td>47.0</td>\n",
              "      <td>1</td>\n",
              "      <td>0</td>\n",
              "      <td>227.5250</td>\n",
              "      <td>0</td>\n",
              "    </tr>\n",
              "    <tr>\n",
              "      <th>147</th>\n",
              "      <td>1</td>\n",
              "      <td>male</td>\n",
              "      <td>28.0</td>\n",
              "      <td>0</td>\n",
              "      <td>0</td>\n",
              "      <td>42.4000</td>\n",
              "      <td>0</td>\n",
              "    </tr>\n",
              "    <tr>\n",
              "      <th>...</th>\n",
              "      <td>...</td>\n",
              "      <td>...</td>\n",
              "      <td>...</td>\n",
              "      <td>...</td>\n",
              "      <td>...</td>\n",
              "      <td>...</td>\n",
              "      <td>...</td>\n",
              "    </tr>\n",
              "    <tr>\n",
              "      <th>1095</th>\n",
              "      <td>3</td>\n",
              "      <td>female</td>\n",
              "      <td>28.0</td>\n",
              "      <td>0</td>\n",
              "      <td>0</td>\n",
              "      <td>7.6292</td>\n",
              "      <td>0</td>\n",
              "    </tr>\n",
              "    <tr>\n",
              "      <th>1130</th>\n",
              "      <td>3</td>\n",
              "      <td>female</td>\n",
              "      <td>18.0</td>\n",
              "      <td>0</td>\n",
              "      <td>0</td>\n",
              "      <td>7.7750</td>\n",
              "      <td>0</td>\n",
              "    </tr>\n",
              "    <tr>\n",
              "      <th>1294</th>\n",
              "      <td>3</td>\n",
              "      <td>male</td>\n",
              "      <td>28.5</td>\n",
              "      <td>0</td>\n",
              "      <td>0</td>\n",
              "      <td>16.1000</td>\n",
              "      <td>0</td>\n",
              "    </tr>\n",
              "    <tr>\n",
              "      <th>860</th>\n",
              "      <td>3</td>\n",
              "      <td>female</td>\n",
              "      <td>26.0</td>\n",
              "      <td>0</td>\n",
              "      <td>0</td>\n",
              "      <td>7.9250</td>\n",
              "      <td>1</td>\n",
              "    </tr>\n",
              "    <tr>\n",
              "      <th>1126</th>\n",
              "      <td>3</td>\n",
              "      <td>female</td>\n",
              "      <td>28.0</td>\n",
              "      <td>0</td>\n",
              "      <td>0</td>\n",
              "      <td>7.8958</td>\n",
              "      <td>0</td>\n",
              "    </tr>\n",
              "  </tbody>\n",
              "</table>\n",
              "<p>1047 rows × 7 columns</p>\n",
              "</div>\n",
              "    <div class=\"colab-df-buttons\">\n",
              "\n",
              "  <div class=\"colab-df-container\">\n",
              "    <button class=\"colab-df-convert\" onclick=\"convertToInteractive('df-7d61de52-831b-43ff-af12-01b9420d8d46')\"\n",
              "            title=\"Convert this dataframe to an interactive table.\"\n",
              "            style=\"display:none;\">\n",
              "\n",
              "  <svg xmlns=\"http://www.w3.org/2000/svg\" height=\"24px\" viewBox=\"0 -960 960 960\">\n",
              "    <path d=\"M120-120v-720h720v720H120Zm60-500h600v-160H180v160Zm220 220h160v-160H400v160Zm0 220h160v-160H400v160ZM180-400h160v-160H180v160Zm440 0h160v-160H620v160ZM180-180h160v-160H180v160Zm440 0h160v-160H620v160Z\"/>\n",
              "  </svg>\n",
              "    </button>\n",
              "\n",
              "  <style>\n",
              "    .colab-df-container {\n",
              "      display:flex;\n",
              "      gap: 12px;\n",
              "    }\n",
              "\n",
              "    .colab-df-convert {\n",
              "      background-color: #E8F0FE;\n",
              "      border: none;\n",
              "      border-radius: 50%;\n",
              "      cursor: pointer;\n",
              "      display: none;\n",
              "      fill: #1967D2;\n",
              "      height: 32px;\n",
              "      padding: 0 0 0 0;\n",
              "      width: 32px;\n",
              "    }\n",
              "\n",
              "    .colab-df-convert:hover {\n",
              "      background-color: #E2EBFA;\n",
              "      box-shadow: 0px 1px 2px rgba(60, 64, 67, 0.3), 0px 1px 3px 1px rgba(60, 64, 67, 0.15);\n",
              "      fill: #174EA6;\n",
              "    }\n",
              "\n",
              "    .colab-df-buttons div {\n",
              "      margin-bottom: 4px;\n",
              "    }\n",
              "\n",
              "    [theme=dark] .colab-df-convert {\n",
              "      background-color: #3B4455;\n",
              "      fill: #D2E3FC;\n",
              "    }\n",
              "\n",
              "    [theme=dark] .colab-df-convert:hover {\n",
              "      background-color: #434B5C;\n",
              "      box-shadow: 0px 1px 3px 1px rgba(0, 0, 0, 0.15);\n",
              "      filter: drop-shadow(0px 1px 2px rgba(0, 0, 0, 0.3));\n",
              "      fill: #FFFFFF;\n",
              "    }\n",
              "  </style>\n",
              "\n",
              "    <script>\n",
              "      const buttonEl =\n",
              "        document.querySelector('#df-7d61de52-831b-43ff-af12-01b9420d8d46 button.colab-df-convert');\n",
              "      buttonEl.style.display =\n",
              "        google.colab.kernel.accessAllowed ? 'block' : 'none';\n",
              "\n",
              "      async function convertToInteractive(key) {\n",
              "        const element = document.querySelector('#df-7d61de52-831b-43ff-af12-01b9420d8d46');\n",
              "        const dataTable =\n",
              "          await google.colab.kernel.invokeFunction('convertToInteractive',\n",
              "                                                    [key], {});\n",
              "        if (!dataTable) return;\n",
              "\n",
              "        const docLinkHtml = 'Like what you see? Visit the ' +\n",
              "          '<a target=\"_blank\" href=https://colab.research.google.com/notebooks/data_table.ipynb>data table notebook</a>'\n",
              "          + ' to learn more about interactive tables.';\n",
              "        element.innerHTML = '';\n",
              "        dataTable['output_type'] = 'display_data';\n",
              "        await google.colab.output.renderOutput(dataTable, element);\n",
              "        const docLink = document.createElement('div');\n",
              "        docLink.innerHTML = docLinkHtml;\n",
              "        element.appendChild(docLink);\n",
              "      }\n",
              "    </script>\n",
              "  </div>\n",
              "\n",
              "\n",
              "<div id=\"df-627d34b9-996e-41dc-a98d-7688f75ed60e\">\n",
              "  <button class=\"colab-df-quickchart\" onclick=\"quickchart('df-627d34b9-996e-41dc-a98d-7688f75ed60e')\"\n",
              "            title=\"Suggest charts\"\n",
              "            style=\"display:none;\">\n",
              "\n",
              "<svg xmlns=\"http://www.w3.org/2000/svg\" height=\"24px\"viewBox=\"0 0 24 24\"\n",
              "     width=\"24px\">\n",
              "    <g>\n",
              "        <path d=\"M19 3H5c-1.1 0-2 .9-2 2v14c0 1.1.9 2 2 2h14c1.1 0 2-.9 2-2V5c0-1.1-.9-2-2-2zM9 17H7v-7h2v7zm4 0h-2V7h2v10zm4 0h-2v-4h2v4z\"/>\n",
              "    </g>\n",
              "</svg>\n",
              "  </button>\n",
              "\n",
              "<style>\n",
              "  .colab-df-quickchart {\n",
              "      --bg-color: #E8F0FE;\n",
              "      --fill-color: #1967D2;\n",
              "      --hover-bg-color: #E2EBFA;\n",
              "      --hover-fill-color: #174EA6;\n",
              "      --disabled-fill-color: #AAA;\n",
              "      --disabled-bg-color: #DDD;\n",
              "  }\n",
              "\n",
              "  [theme=dark] .colab-df-quickchart {\n",
              "      --bg-color: #3B4455;\n",
              "      --fill-color: #D2E3FC;\n",
              "      --hover-bg-color: #434B5C;\n",
              "      --hover-fill-color: #FFFFFF;\n",
              "      --disabled-bg-color: #3B4455;\n",
              "      --disabled-fill-color: #666;\n",
              "  }\n",
              "\n",
              "  .colab-df-quickchart {\n",
              "    background-color: var(--bg-color);\n",
              "    border: none;\n",
              "    border-radius: 50%;\n",
              "    cursor: pointer;\n",
              "    display: none;\n",
              "    fill: var(--fill-color);\n",
              "    height: 32px;\n",
              "    padding: 0;\n",
              "    width: 32px;\n",
              "  }\n",
              "\n",
              "  .colab-df-quickchart:hover {\n",
              "    background-color: var(--hover-bg-color);\n",
              "    box-shadow: 0 1px 2px rgba(60, 64, 67, 0.3), 0 1px 3px 1px rgba(60, 64, 67, 0.15);\n",
              "    fill: var(--button-hover-fill-color);\n",
              "  }\n",
              "\n",
              "  .colab-df-quickchart-complete:disabled,\n",
              "  .colab-df-quickchart-complete:disabled:hover {\n",
              "    background-color: var(--disabled-bg-color);\n",
              "    fill: var(--disabled-fill-color);\n",
              "    box-shadow: none;\n",
              "  }\n",
              "\n",
              "  .colab-df-spinner {\n",
              "    border: 2px solid var(--fill-color);\n",
              "    border-color: transparent;\n",
              "    border-bottom-color: var(--fill-color);\n",
              "    animation:\n",
              "      spin 1s steps(1) infinite;\n",
              "  }\n",
              "\n",
              "  @keyframes spin {\n",
              "    0% {\n",
              "      border-color: transparent;\n",
              "      border-bottom-color: var(--fill-color);\n",
              "      border-left-color: var(--fill-color);\n",
              "    }\n",
              "    20% {\n",
              "      border-color: transparent;\n",
              "      border-left-color: var(--fill-color);\n",
              "      border-top-color: var(--fill-color);\n",
              "    }\n",
              "    30% {\n",
              "      border-color: transparent;\n",
              "      border-left-color: var(--fill-color);\n",
              "      border-top-color: var(--fill-color);\n",
              "      border-right-color: var(--fill-color);\n",
              "    }\n",
              "    40% {\n",
              "      border-color: transparent;\n",
              "      border-right-color: var(--fill-color);\n",
              "      border-top-color: var(--fill-color);\n",
              "    }\n",
              "    60% {\n",
              "      border-color: transparent;\n",
              "      border-right-color: var(--fill-color);\n",
              "    }\n",
              "    80% {\n",
              "      border-color: transparent;\n",
              "      border-right-color: var(--fill-color);\n",
              "      border-bottom-color: var(--fill-color);\n",
              "    }\n",
              "    90% {\n",
              "      border-color: transparent;\n",
              "      border-bottom-color: var(--fill-color);\n",
              "    }\n",
              "  }\n",
              "</style>\n",
              "\n",
              "  <script>\n",
              "    async function quickchart(key) {\n",
              "      const quickchartButtonEl =\n",
              "        document.querySelector('#' + key + ' button');\n",
              "      quickchartButtonEl.disabled = true;  // To prevent multiple clicks.\n",
              "      quickchartButtonEl.classList.add('colab-df-spinner');\n",
              "      try {\n",
              "        const charts = await google.colab.kernel.invokeFunction(\n",
              "            'suggestCharts', [key], {});\n",
              "      } catch (error) {\n",
              "        console.error('Error during call to suggestCharts:', error);\n",
              "      }\n",
              "      quickchartButtonEl.classList.remove('colab-df-spinner');\n",
              "      quickchartButtonEl.classList.add('colab-df-quickchart-complete');\n",
              "    }\n",
              "    (() => {\n",
              "      let quickchartButtonEl =\n",
              "        document.querySelector('#df-627d34b9-996e-41dc-a98d-7688f75ed60e button');\n",
              "      quickchartButtonEl.style.display =\n",
              "        google.colab.kernel.accessAllowed ? 'block' : 'none';\n",
              "    })();\n",
              "  </script>\n",
              "</div>\n",
              "    </div>\n",
              "  </div>\n"
            ],
            "text/plain": [
              "      pclass     sex   age  sibsp  parch      fare  survived\n",
              "772        3    male  17.0      0      0    7.8958         0\n",
              "543        2    male  36.0      0      0   10.5000         0\n",
              "289        1  female  18.0      0      2   79.6500         1\n",
              "10         1    male  47.0      1      0  227.5250         0\n",
              "147        1    male  28.0      0      0   42.4000         0\n",
              "...      ...     ...   ...    ...    ...       ...       ...\n",
              "1095       3  female  28.0      0      0    7.6292         0\n",
              "1130       3  female  18.0      0      0    7.7750         0\n",
              "1294       3    male  28.5      0      0   16.1000         0\n",
              "860        3  female  26.0      0      0    7.9250         1\n",
              "1126       3  female  28.0      0      0    7.8958         0\n",
              "\n",
              "[1047 rows x 7 columns]"
            ]
          },
          "execution_count": 7,
          "metadata": {},
          "output_type": "execute_result"
        }
      ],
      "source": [
        "data_df"
      ],
      "id": "9bc9b42a-9f57-4502-8d00-9fda6bdb34cf"
    },
    {
      "cell_type": "code",
      "execution_count": null,
      "metadata": {
        "colab": {
          "base_uri": "https://localhost:8080/",
          "height": 430
        },
        "id": "uCY-VOhwJEQN",
        "outputId": "76c805b3-86db-4b7b-fad3-e3ea9d60e575"
      },
      "outputs": [
        {
          "data": {
            "image/png": "[encoded data removed]",
            "text/plain": [
              "<Figure size 640x480 with 1 Axes>"
            ]
          },
          "metadata": {},
          "output_type": "display_data"
        }
      ],
      "source": [
        "# @title sex\n",
        "\n",
        "from matplotlib import pyplot as plt\n",
        "import seaborn as sns\n",
        "x_train.groupby('sex').size().plot(kind='barh', color=sns.palettes.mpl_palette('Dark2'))\n",
        "plt.gca().spines[['top', 'right',]].set_visible(False)"
      ],
      "id": "uCY-VOhwJEQN"
    },
    {
      "cell_type": "markdown",
      "metadata": {
        "id": "57d8e9c2-2266-40c2-9d91-3bd25e633eb2"
      },
      "source": [
        "Let us visualise the correlation between the individual columns of the data, computed using the [Pearson correlation coefficient](https://en.wikipedia.org/wiki/Pearson_correlation_coefficient). Note that we excluded the `sex` feature from this visualisation, as it is categorical."
      ],
      "id": "57d8e9c2-2266-40c2-9d91-3bd25e633eb2"
    },
    {
      "cell_type": "code",
      "execution_count": null,
      "metadata": {
        "colab": {
          "base_uri": "https://localhost:8080/",
          "height": 435
        },
        "id": "465f7fb2-3f81-4f9a-9ff9-09f45d3a50e1",
        "outputId": "8cdc3984-3ab8-4bad-b101-27b11fa8f336"
      },
      "outputs": [
        {
          "data": {
            "image/png": "[encoded data removed]",
            "text/plain": [
              "<Figure size 640x480 with 2 Axes>"
            ]
          },
          "metadata": {},
          "output_type": "display_data"
        }
      ],
      "source": [
        "import matplotlib.pyplot as plt\n",
        "import seaborn as sns\n",
        "\n",
        "corr = data_df.drop(columns=[\"sex\"]).corr()\n",
        "sns.heatmap(\n",
        "    corr,\n",
        "    xticklabels=corr.columns.values,\n",
        "    yticklabels=corr.columns.values,\n",
        "    annot=True,\n",
        "    fmt='.2g',\n",
        ")\n",
        "plt.show()"
      ],
      "id": "465f7fb2-3f81-4f9a-9ff9-09f45d3a50e1"
    },
    {
      "cell_type": "markdown",
      "metadata": {
        "id": "eba12652-00ee-42f2-b37c-7aabbd7d6b17"
      },
      "source": [
        "Since the previous plot does not include the categorical `sex` column, we also separately visualise its distribution, including the associated labels."
      ],
      "id": "eba12652-00ee-42f2-b37c-7aabbd7d6b17"
    },
    {
      "cell_type": "code",
      "execution_count": null,
      "metadata": {
        "colab": {
          "base_uri": "https://localhost:8080/",
          "height": 483
        },
        "id": "93e255d4-c9d4-4588-aeb3-f563c202b595",
        "outputId": "c3abef40-3f1d-4262-e8f2-4fab84b6a9ba"
      },
      "outputs": [
        {
          "data": {
            "image/png": "[encoded data removed]",
            "text/plain": [
              "<Figure size 640x480 with 1 Axes>"
            ]
          },
          "metadata": {},
          "output_type": "display_data"
        }
      ],
      "source": [
        "data_df.groupby(['sex', 'survived']).size().unstack().plot(\n",
        "    kind='bar', stacked=True, color=['#a51900', '#02893b'], xlabel=\"Sex\", ylabel=\"Count\"\n",
        ")\n",
        "plt.legend(['No', 'Yes'], title=\"Survived\")\n",
        "plt.show()"
      ],
      "id": "93e255d4-c9d4-4588-aeb3-f563c202b595"
    },
    {
      "cell_type": "markdown",
      "metadata": {
        "id": "ec2dc6b6-a871-4509-8049-52d84833c417"
      },
      "source": [
        "**Task 1(a)**: <br />\n",
        "**(i)** Considering the above visualisations, are there any trends or patterns that you can identify in the data? <br />\n",
        "**(ii)** Without having access to any particular model or the associated explanations, which features would you expect to be the most and least important for a neural network trained on the dataset? How can you tell and how certain can you be of your assessment? <br />\n",
        "**(iii)** Apart from inspecting the above plots, is there anything else you could do as part of the exploratory analysis that would allow you to better understand the data and the behaviour of the models trained on it? <br />\n",
        "Please write your answers in a few sentences."
      ],
      "id": "ec2dc6b6-a871-4509-8049-52d84833c417"
    },
    {
      "cell_type": "markdown",
      "metadata": {
        "id": "64a7e4a2-988d-4580-9fb9-a93f76c3164b"
      },
      "source": [
        "## Model Initialisation and Training"
      ],
      "id": "64a7e4a2-988d-4580-9fb9-a93f76c3164b"
    },
    {
      "cell_type": "markdown",
      "metadata": {
        "id": "4435873c-e279-45c9-b2b0-38faedba32ac"
      },
      "source": [
        "First, we define a global device variable to enable running this code on a GPU or a CPU, as needed."
      ],
      "id": "4435873c-e279-45c9-b2b0-38faedba32ac"
    },
    {
      "cell_type": "code",
      "execution_count": null,
      "metadata": {
        "id": "65a56bef-3daa-44aa-8e57-d001b3bff2ff"
      },
      "outputs": [],
      "source": [
        "DEVICE = torch.device(\"cuda\" if torch.cuda.is_available() else \"cpu\")"
      ],
      "id": "65a56bef-3daa-44aa-8e57-d001b3bff2ff"
    },
    {
      "cell_type": "markdown",
      "metadata": {
        "id": "17a96541-7047-4c2b-845f-b823f4a8b239"
      },
      "source": [
        "Here, we define several utility functions for constructing, training and evaluating neural networks."
      ],
      "id": "17a96541-7047-4c2b-845f-b823f4a8b239"
    },
    {
      "cell_type": "code",
      "execution_count": null,
      "metadata": {
        "colab": {
          "base_uri": "https://localhost:8080/"
        },
        "id": "395dd993-e2e1-46a8-b727-9f646ce4e409",
        "outputId": "fdfc09cc-f4e0-4b33-eff8-5e9744461802"
      },
      "outputs": [
        {
          "name": "stdout",
          "output_type": "stream",
          "text": [
            "Collecting torcheval\n",
            "  Downloading torcheval-0.0.7-py3-none-any.whl (179 kB)\n",
            "\u001b[?25l     \u001b[90m━━━━━━━━━━━━━━━━━━━━━━━━━━━━━━━━━━━━━━━━\u001b[0m \u001b[32m0.0/179.2 kB\u001b[0m \u001b[31m?\u001b[0m eta \u001b[36m-:--:--\u001b[0m\r\u001b[2K     \u001b[91m━━━━━━━━━━━━━━━━━━━━━━━━━━━━━━━━━━━━━━\u001b[0m\u001b[91m╸\u001b[0m\u001b[90m━\u001b[0m \u001b[32m174.1/179.2 kB\u001b[0m \u001b[31m5.7 MB/s\u001b[0m eta \u001b[36m0:00:01\u001b[0m\r\u001b[2K     \u001b[90m━━━━━━━━━━━━━━━━━━━━━━━━━━━━━━━━━━━━━━━━\u001b[0m \u001b[32m179.2/179.2 kB\u001b[0m \u001b[31m4.6 MB/s\u001b[0m eta \u001b[36m0:00:00\u001b[0m\n",
            "\u001b[?25hRequirement already satisfied: typing-extensions in /usr/local/lib/python3.10/dist-packages (from torcheval) (4.9.0)\n",
            "Installing collected packages: torcheval\n",
            "Successfully installed torcheval-0.0.7\n"
          ]
        }
      ],
      "source": [
        "!pip install torcheval\n",
        "\n",
        "import torch\n",
        "import torch.nn as nn\n",
        "\n",
        "from torcheval.metrics.functional import binary_f1_score, binary_accuracy, binary_auroc\n",
        "from tqdm.auto import tqdm\n",
        "\n",
        "def construct_nn(nn_dims, activation_fun):\n",
        "    \"\"\"\n",
        "    Constructs a neural network with the specified architecture.\n",
        "    \"\"\"\n",
        "    layers = []\n",
        "    for i in range(1, len(nn_dims)):\n",
        "        in_dim, out_dim = nn_dims[i-1], nn_dims[i]\n",
        "        layers.append(nn.Linear(in_dim, out_dim))\n",
        "        layers.append(activation_fun())\n",
        "    # Remove the last activation layer and add Sigmoid instead\n",
        "    layers = layers[:-1]\n",
        "    layers.append(nn.Sigmoid())\n",
        "\n",
        "    return nn.Sequential(*layers).to(DEVICE)\n",
        "\n",
        "def train_nn(model, train_dl, num_epochs=100):\n",
        "    \"\"\"\n",
        "    Trains a neural network using the data from the provided data loader.\n",
        "    \"\"\"\n",
        "    loss_fun = nn.BCELoss()\n",
        "    opt = torch.optim.AdamW(model.parameters(), lr=0.005)\n",
        "    model.train()\n",
        "\n",
        "    losses = []\n",
        "    for epoch in tqdm(range(num_epochs), leave=False):\n",
        "        total_loss = 0\n",
        "        for i, (x, y) in list(enumerate(train_dl)):\n",
        "            x, y = x.to(DEVICE), y.to(DEVICE)\n",
        "            opt.zero_grad()\n",
        "            out = model(x)\n",
        "            loss = loss_fun(out.squeeze(-1), y.float())\n",
        "            total_loss += loss.item()\n",
        "            loss.backward()\n",
        "            opt.step()\n",
        "            opt.zero_grad()\n",
        "        losses.append(total_loss)\n",
        "\n",
        "def eval_nn(model, test_dataset):\n",
        "    \"\"\"\n",
        "    Evaluates binary classification performance of a model on the given\n",
        "    test dataset.\n",
        "    \"\"\"\n",
        "    model.eval()\n",
        "\n",
        "    loss_fun = nn.BCELoss()\n",
        "    predictions = model(test_dataset.samples.to(DEVICE))\n",
        "    labels = test_dataset.labels.unsqueeze(-1).to(DEVICE)\n",
        "    loss = loss_fun(predictions, labels.float()).item()\n",
        "\n",
        "    predictions = predictions.squeeze(-1).detach()\n",
        "    labels = labels.squeeze(-1).detach()\n",
        "    f1 = binary_f1_score(predictions, labels).item()\n",
        "    accuracy = binary_accuracy(predictions, labels).item()\n",
        "    auc = binary_auroc(predictions, labels).item()\n",
        "\n",
        "    return loss, f1, accuracy, auc"
      ],
      "id": "395dd993-e2e1-46a8-b727-9f646ce4e409"
    },
    {
      "cell_type": "markdown",
      "metadata": {
        "id": "f3495eeb-14fa-4ae2-aaaf-b24c64ab8ef9"
      },
      "source": [
        "In this cell, we initialise and train the neural model that we will be explaining in this coursework. For a real-world application, you would typically wish to perform a full hyperparameter search in order to identify the most effective model architecture. However, achieving a maximum performance is not the objective of this coursework, so we just pre-define a model that performs reasonably well on the given task."
      ],
      "id": "f3495eeb-14fa-4ae2-aaaf-b24c64ab8ef9"
    },
    {
      "cell_type": "code",
      "execution_count": null,
      "metadata": {
        "colab": {
          "background_save": true,
          "base_uri": "https://localhost:8080/",
          "height": 67,
          "referenced_widgets": [
            "a83ded2a56484c6bb15f85c9923f4de8",
            "234d4951a5d54606b658d862a4128607",
            "be03a3cd765a4fa9bef15f2beea30018",
            "e0fd9d72f809450ebbe52c2a8fc8bd45",
            "8f6835f59f4f43599813e94d603ac0eb",
            "5b31496323a0474f83ea2d4b7815637d",
            "c108a81b6881424a9c04e6a83c25557f",
            "8cdb23c2292d49ccb24903ba280dded1",
            "3a01724790cf4576bf582785638605af",
            "1445bbd64b6146dc88efb8ba49c92302",
            "96a7ffc398594aaba68f152777d66500"
          ]
        },
        "id": "68254f96-7821-4a53-8615-2edbfee294ba",
        "outputId": "3240fbba-a9f1-4c24-a6bc-5b1d95e1988f"
      },
      "outputs": [
        {
          "name": "stdout",
          "output_type": "stream",
          "text": [
            "———————[ Model training ]———————\n"
          ]
        },
        {
          "data": {
            "application/vnd.jupyter.widget-view+json": {
              "model_id": "a83ded2a56484c6bb15f85c9923f4de8",
              "version_major": 2,
              "version_minor": 0
            },
            "text/plain": [
              "  0%|          | 0/1000 [00:00<?, ?it/s]"
            ]
          },
          "metadata": {},
          "output_type": "display_data"
        },
        {
          "name": "stdout",
          "output_type": "stream",
          "text": [
            "Training completed!\n",
            "\n",
            "———————[ Evaluation ]———————\n",
            "F1 score: 0.71\n",
            "Accuracy: 0.77\n",
            "AUC: 0.82\n"
          ]
        }
      ],
      "source": [
        "def print_metric(name, value):\n",
        "    print(f\"{name}: {'{:.2f}'.format(round(value, 2))}\")\n",
        "\n",
        "torch.manual_seed(42)\n",
        "np.random.seed(42)\n",
        "model = construct_nn([7, 256, 256, 1], nn.ReLU).to(DEVICE)\n",
        "\n",
        "print(\"———————[ Model training ]———————\")\n",
        "train_nn(model, train_dl, num_epochs=1000)\n",
        "print(\"Training completed!\")\n",
        "print()\n",
        "\n",
        "print(\"———————[ Evaluation ]———————\")\n",
        "test_loss, f1, accuracy, auc = eval_nn(model, test_dataset)\n",
        "print_metric(\"F1 score\", f1)\n",
        "print_metric(\"Accuracy\", accuracy)\n",
        "print_metric(\"AUC\", auc)"
      ],
      "id": "68254f96-7821-4a53-8615-2edbfee294ba"
    },
    {
      "cell_type": "markdown",
      "metadata": {
        "id": "f6034c1b-500d-4e02-a6e7-742d62208c8e"
      },
      "source": [
        "## Feature Attributions"
      ],
      "id": "f6034c1b-500d-4e02-a6e7-742d62208c8e"
    },
    {
      "cell_type": "markdown",
      "metadata": {
        "id": "02fa2e83-1342-4a8c-b1e7-d1188455eeb6"
      },
      "source": [
        "In this section of the coursework, you will implement SHAP as introduced in the lectures and conduct additional experiments with various feature attribution methods."
      ],
      "id": "02fa2e83-1342-4a8c-b1e7-d1188455eeb6"
    },
    {
      "cell_type": "markdown",
      "metadata": {
        "id": "579e7328-82bd-41aa-bcb9-6488e575c3f4"
      },
      "source": [
        "### SHAP Implementation"
      ],
      "id": "579e7328-82bd-41aa-bcb9-6488e575c3f4"
    },
    {
      "cell_type": "markdown",
      "metadata": {
        "id": "5ecf73aa-f5e3-4c36-9875-19e38c5d5c99"
      },
      "source": [
        "**Task 2(a)(i)**: As a first step in implementing SHAP, define a `compute_coefficient` function to compute the SHAP coalition coefficient/weight as specified by the formula from the lectures:\n",
        "\n",
        "$$g_{SHAP}(\\mathcal{M},\\mathbf{x},i) = \\sum_{\\mathbf{z} \\subseteq \\mathbf{x}}{\\frac{|\\mathbf{z}|!(n - |\\mathbf{z}| - 1)! }{n!} \\mathcal{M}( \\mathbf{z}) - \\mathcal{M}(\\mathbf{z}_{-i})} \\nonumber$$"
      ],
      "id": "5ecf73aa-f5e3-4c36-9875-19e38c5d5c99"
    },
    {
      "cell_type": "code",
      "execution_count": null,
      "metadata": {
        "colab": {
          "background_save": true
        },
        "id": "564deb60-0275-4b75-a2a8-b2e61ef4563c"
      },
      "outputs": [],
      "source": [
        "import math\n",
        "\n",
        "def compute_coefficient(num_in_coalition, total_features):\n",
        "    \"\"\"\n",
        "    Computes the SHAP coefficient for a coalition.\n",
        "\n",
        "    Parameters:\n",
        "        num_in_coalition (int): The number of features in the given coalition\n",
        "        total_features (int): The total number of considered features\n",
        "\n",
        "    Returns:\n",
        "        coefficient (float): The SHAP weight for the given coalition\n",
        "    \"\"\"\n",
        "    return math.factorial(abs(num_in_coalition))*math.factorial((total_features - abs(num_in_coalition) - 1))/math.factorial(total_features)\n"
      ],
      "id": "564deb60-0275-4b75-a2a8-b2e61ef4563c"
    },
    {
      "cell_type": "markdown",
      "metadata": {
        "id": "b8131b77-5eac-471c-a1a8-ff138f4b4541"
      },
      "source": [
        "**Task 2(a)(ii)**: Next, define a function `generate_coalitions`, which will return the list representing all the possible coalitions for a possible feature.\n",
        "\n",
        "Hint #1: You may find it helpful to use [itertools](https://docs.python.org/3/library/itertools.html) and [Python generators](https://wiki.python.org/moin/Generators) for implementing this function.\n",
        "\n",
        "Hint #2: Passing a full list of feature IDs is not strictly necessary here, but you will find this list helpful for implementing other functions, so we also recommend taking it as a parameter here. As an example, for the Titanic dataset, this list could look like `[0, 1, 2, 3, 4, 5, 5]` (note the repeated `5` for the one-hot-encoded `sex` feature)."
      ],
      "id": "b8131b77-5eac-471c-a1a8-ff138f4b4541"
    },
    {
      "cell_type": "code",
      "execution_count": null,
      "metadata": {
        "colab": {
          "background_save": true
        },
        "id": "d3e60209-d01b-4947-bba5-e13b5385d43f",
        "outputId": "775e2bcd-4a98-4b8e-d987-755d16656d25"
      },
      "outputs": [
        {
          "data": {
            "text/plain": [
              "[[1],\n",
              " [2],\n",
              " [4],\n",
              " [5],\n",
              " [5],\n",
              " [1, 2],\n",
              " [1, 4],\n",
              " [1, 5],\n",
              " [1, 5],\n",
              " [2, 4],\n",
              " [2, 5],\n",
              " [2, 5],\n",
              " [4, 5],\n",
              " [4, 5],\n",
              " [5, 5],\n",
              " [1, 2, 4],\n",
              " [1, 2, 5],\n",
              " [1, 2, 5],\n",
              " [1, 4, 5],\n",
              " [1, 4, 5],\n",
              " [1, 5, 5],\n",
              " [2, 4, 5],\n",
              " [2, 4, 5],\n",
              " [2, 5, 5],\n",
              " [4, 5, 5],\n",
              " [1, 2, 4, 5],\n",
              " [1, 2, 4, 5],\n",
              " [1, 2, 5, 5],\n",
              " [1, 4, 5, 5],\n",
              " [2, 4, 5, 5],\n",
              " [1, 2, 4, 5, 5]]"
            ]
          },
          "execution_count": 15,
          "metadata": {},
          "output_type": "execute_result"
        }
      ],
      "source": [
        "import itertools\n",
        "\n",
        "def generate_coalitions(feature_ids, target_feature_id):\n",
        "    \"\"\"\n",
        "    Generates the possible feature coalitions for the purpose of computing the Shapley value\n",
        "    for the target feature.\n",
        "\n",
        "    Parameters:\n",
        "        feature_ids (list): A list with feature IDs from 0 to N (where N is\n",
        "            the total number of features) identifying the used features. Distinct\n",
        "            columns for one-hot-encoded features should be assigned the same\n",
        "            numerical ID.\n",
        "        target_feature_id (int): The ID of the removed feature for which the coalitions\n",
        "            should be generated.\n",
        "\n",
        "    Retruns:\n",
        "        coalitions (list): A nested list structure of coalitions in the form:\n",
        "            [(set(coalition 1 in features set), set(coalition 1 out features set)), ...].\n",
        "            Note that feature_id should not appear in either of the in/out lists.\n",
        "    \"\"\"\n",
        "    feature_ids_ = feature_ids.copy()\n",
        "    feature_ids_.remove(target_feature_id)\n",
        "    coalitions = []\n",
        "\n",
        "    for i in range(1, len(feature_ids_) +1):\n",
        "      coalitions.append([list(j) for j in itertools.combinations(feature_ids_, i)])\n",
        "    return list(itertools.chain.from_iterable(coalitions))\n",
        "\n",
        "\n",
        "t = [1,2,3,4,5, 5]\n",
        "s = 3\n",
        "generate_coalitions(t, s)\n"
      ],
      "id": "d3e60209-d01b-4947-bba5-e13b5385d43f"
    },
    {
      "cell_type": "markdown",
      "metadata": {
        "id": "cc6fe694-5010-47c6-a3dc-68ffd032eb1b"
      },
      "source": [
        "**Task 2(a)(iii)**: Next, implement a function `delete_features` that deletes the specified features from the given input tensor `x`. In contrast with the setting in the SHAP tutorial, the majority of features considered in this coursework are non-binary, which makes the deletion of features slightly more challenging. The general procedure for performing the deletion can be described as follows:\n",
        "1. For each sample in `x` and each deleted feature, randomly sample the value of the deleted feature from another data point in the background dataset\n",
        "2. If the sampled value is identical to the current value of the deleted feature, continue sampling new values until finding one that differs. This ensures that feature deletion actually changes the values of categorical variables or variables with few possible values.\n",
        "3. Replace the value of the deleted feature in the currently considered sample with the newly sampled value\n",
        "\n",
        "Hint #1: Boolean tensor masks \"selecting\" certain features can be very helpful here.\n",
        "\n",
        "Hint #2: Make sure not to overwrite values in the original `x` when deleting features. Instead, the function should return a new tensor."
      ],
      "id": "cc6fe694-5010-47c6-a3dc-68ffd032eb1b"
    },
    {
      "cell_type": "code",
      "execution_count": null,
      "metadata": {
        "colab": {
          "background_save": true
        },
        "id": "a75928ee-3f2b-4427-8f41-45cfbe239eda"
      },
      "outputs": [],
      "source": [
        "\n",
        "from torch.masked import masked_tensor\n",
        "\n",
        "def delete_features(x, background_dataset, feature_ids, deleted_feature_ids):\n",
        "    \"\"\"\n",
        "    Deletes the specified features from inputs x using the background dataset.\n",
        "\n",
        "    Parameters:\n",
        "        x (Tensor): A tensor of inputs with the shape (batch_size, num_features).\n",
        "        background_dataset (Tensor): A tensor of background data samples with the same shape as x.\n",
        "        feature_ids (list): A list with feature IDs, same as in generate_coalitions.\n",
        "        deleted_feature_ids (set): A set with feature IDs to be deleted from x.\n",
        "\n",
        "    Returns:\n",
        "        x_deleted (tensor): A new tensor of inputs with the specified features deleted.\n",
        "    \"\"\"\n",
        "    # Make the sampling deterministic\n",
        "    torch.manual_seed(42)\n",
        "    np.random.seed(42)\n",
        "\n",
        "    print(x)\n",
        "    print(deleted_feature_ids)\n",
        "    print(feature_ids)\n",
        "    mask = [not i in deleted_feature_ids for i in feature_ids]\n",
        "    print(mask)\n",
        "    full_mask = torch.tensor([mask for i in range(x.shape[0])])\n",
        "    print(x.shape)\n",
        "    print(full_mask.shape)\n",
        "\n",
        "    return masked_tensor(x, full_mask)\n",
        "\n"
      ],
      "id": "a75928ee-3f2b-4427-8f41-45cfbe239eda"
    },
    {
      "cell_type": "markdown",
      "metadata": {
        "id": "679f0dc8-1542-4989-b148-41d5e5889e5b"
      },
      "source": [
        "**Task 2(a)(iv)**: Finally, put everything together in the `shap_attribute` function, which will compute the SHAP attributions for the given input and model. Note that the function also takes in a `target_idx` specifying for which output neuron the explanations should be computed. This is not strictly necessary for the Titanic model, which only has a single Sigmoid output, but will be needed once you start working with a more complex model."
      ],
      "id": "679f0dc8-1542-4989-b148-41d5e5889e5b"
    },
    {
      "cell_type": "code",
      "execution_count": null,
      "metadata": {
        "colab": {
          "background_save": true
        },
        "id": "aecaa2ba-f48f-474e-9503-d22598e554e6"
      },
      "outputs": [],
      "source": [
        "def shap_attribute(model, x, background_dataset, feature_ids, target_idx=0):\n",
        "    \"\"\"\n",
        "    Computes the SHAP attributions for the given input and model.\n",
        "\n",
        "    Parameters:\n",
        "        model (Object): A PyTorch model for which the attributions should be computed.\n",
        "        x (Tensor): Inputs for which the explanations should be computed, in shape (batch_size, num_features).\n",
        "        background_dataset (Tensor): A tensor of background data samples with the same shape as x.\n",
        "        feature_ids (list): A list with feature IDs, same as in generate_coalitions.\n",
        "        target_idx (int): The ID of the target neuron for which to compute an explanation\n",
        "            (useful for classification tasks with multiple labels where it should correspond\n",
        "\n",
        "    Returns:\n",
        "        attributions (Tensor): A tensor of SHAP attributions, with the same shape as the input\n",
        "    \"\"\"\n",
        "\n",
        "    # Doing for each feature over the whole batch, not sure if he wants it over individual samples. Can change easily, let's test first though\n",
        "    attributions = []\n",
        "    n_features = len(x)\n",
        "\n",
        "    for feature in range(n_features):\n",
        "        shap_val = 0\n",
        "        coalitions = generate_coalitions(feature_ids, feature_ids[feature])\n",
        "        for coalition in coalitions:\n",
        "          x_deleted = delete_features(x, background_dataset, feature_ids, coalition)\n",
        "          baseline_prediction = model.predict(x_deleted)\n",
        "          removed_prediction = model.predict(delete_features(x_deleted, background_dataset, feature_ids, feature_ids[feature]))\n",
        "          shap_val += compute_coefficient(len(coalition), n_features) * (baseline_prediction - removed_prediction)\n",
        "        attributions.append(shap_val)\n",
        "\n",
        "    return attributions"
      ],
      "id": "aecaa2ba-f48f-474e-9503-d22598e554e6"
    },
    {
      "cell_type": "markdown",
      "metadata": {
        "id": "3017834b-bf1c-48e4-ab1c-ff0d26ccab5c"
      },
      "source": [
        "### Additional Explanation Methods"
      ],
      "id": "3017834b-bf1c-48e4-ab1c-ff0d26ccab5c"
    },
    {
      "cell_type": "markdown",
      "metadata": {
        "id": "33325644-8c95-4e9f-aa94-9cf9206d2268"
      },
      "source": [
        "Apart from SHAP, which you just implemented, you will also be experimenting with two more feature attribution methods implemented in the [Captum](https://captum.ai/) library — [Shapley Value Sampling](https://captum.ai/api/shapley_value_sampling.html) and [DeepLIFT](https://captum.ai/api/deep_lift.html). Shapley Value Sampling is a more computationally tractable approximation of SHAP and computes the scores by randomly sampling a fixed number of coalitions instead of considering all of them. Meanwhile, DeepLIFT is a fast gradient-based attribution method specifically designed for neural models. If you are interested, you can learn more about DeepLIFT in [its original paper](https://arxiv.org/abs/1704.02685).\n",
        "\n",
        "To get you started, we provide an example of how to use the Captum library to generate Shapley Value Sampling attributions for the first sample from the Titanic test set (note that the library also allows you to compute attributions for a batch of inputs):"
      ],
      "id": "33325644-8c95-4e9f-aa94-9cf9206d2268"
    },
    {
      "cell_type": "code",
      "execution_count": null,
      "metadata": {
        "colab": {
          "background_save": true
        },
        "id": "974eca85-1658-4222-95fc-bf3d180baeb5",
        "outputId": "fe533ebb-2d86-4890-9440-d0581e2fb602"
      },
      "outputs": [
        {
          "name": "stdout",
          "output_type": "stream",
          "text": [
            "Collecting captum\n",
            "  Downloading captum-0.7.0-py3-none-any.whl (1.3 MB)\n",
            "\u001b[2K     \u001b[90m━━━━━━━━━━━━━━━━━━━━━━━━━━━━━━━━━━━━━━━━\u001b[0m \u001b[32m1.3/1.3 MB\u001b[0m \u001b[31m11.0 MB/s\u001b[0m eta \u001b[36m0:00:00\u001b[0m\n",
            "\u001b[?25hRequirement already satisfied: matplotlib in /usr/local/lib/python3.10/dist-packages (from captum) (3.7.1)\n",
            "Requirement already satisfied: numpy in /usr/local/lib/python3.10/dist-packages (from captum) (1.25.2)\n",
            "Requirement already satisfied: torch>=1.6 in /usr/local/lib/python3.10/dist-packages (from captum) (2.1.0+cu121)\n",
            "Requirement already satisfied: tqdm in /usr/local/lib/python3.10/dist-packages (from captum) (4.66.2)\n",
            "Requirement already satisfied: filelock in /usr/local/lib/python3.10/dist-packages (from torch>=1.6->captum) (3.13.1)\n",
            "Requirement already satisfied: typing-extensions in /usr/local/lib/python3.10/dist-packages (from torch>=1.6->captum) (4.9.0)\n",
            "Requirement already satisfied: sympy in /usr/local/lib/python3.10/dist-packages (from torch>=1.6->captum) (1.12)\n",
            "Requirement already satisfied: networkx in /usr/local/lib/python3.10/dist-packages (from torch>=1.6->captum) (3.2.1)\n",
            "Requirement already satisfied: jinja2 in /usr/local/lib/python3.10/dist-packages (from torch>=1.6->captum) (3.1.3)\n",
            "Requirement already satisfied: fsspec in /usr/local/lib/python3.10/dist-packages (from torch>=1.6->captum) (2023.6.0)\n",
            "Requirement already satisfied: triton==2.1.0 in /usr/local/lib/python3.10/dist-packages (from torch>=1.6->captum) (2.1.0)\n",
            "Requirement already satisfied: contourpy>=1.0.1 in /usr/local/lib/python3.10/dist-packages (from matplotlib->captum) (1.2.0)\n",
            "Requirement already satisfied: cycler>=0.10 in /usr/local/lib/python3.10/dist-packages (from matplotlib->captum) (0.12.1)\n",
            "Requirement already satisfied: fonttools>=4.22.0 in /usr/local/lib/python3.10/dist-packages (from matplotlib->captum) (4.48.1)\n",
            "Requirement already satisfied: kiwisolver>=1.0.1 in /usr/local/lib/python3.10/dist-packages (from matplotlib->captum) (1.4.5)\n",
            "Requirement already satisfied: packaging>=20.0 in /usr/local/lib/python3.10/dist-packages (from matplotlib->captum) (23.2)\n",
            "Requirement already satisfied: pillow>=6.2.0 in /usr/local/lib/python3.10/dist-packages (from matplotlib->captum) (9.4.0)\n",
            "Requirement already satisfied: pyparsing>=2.3.1 in /usr/local/lib/python3.10/dist-packages (from matplotlib->captum) (3.1.1)\n",
            "Requirement already satisfied: python-dateutil>=2.7 in /usr/local/lib/python3.10/dist-packages (from matplotlib->captum) (2.8.2)\n",
            "Requirement already satisfied: six>=1.5 in /usr/local/lib/python3.10/dist-packages (from python-dateutil>=2.7->matplotlib->captum) (1.16.0)\n",
            "Requirement already satisfied: MarkupSafe>=2.0 in /usr/local/lib/python3.10/dist-packages (from jinja2->torch>=1.6->captum) (2.1.5)\n",
            "Requirement already satisfied: mpmath>=0.19 in /usr/local/lib/python3.10/dist-packages (from sympy->torch>=1.6->captum) (1.3.0)\n",
            "Installing collected packages: captum\n",
            "Successfully installed captum-0.7.0\n"
          ]
        },
        {
          "data": {
            "text/plain": [
              "tensor([[ 0.0000,  0.2230,  0.0000,  0.0000,  0.1986, -0.5711, -0.5711]])"
            ]
          },
          "execution_count": 18,
          "metadata": {},
          "output_type": "execute_result"
        }
      ],
      "source": [
        "!pip install captum\n",
        "from captum.attr import ShapleyValueSampling\n",
        "\n",
        "# Note that this is similar to feature_ids from the implementation above,\n",
        "# but the shape and the data type are different\n",
        "feature_mask = torch.tensor([[0, 1, 2, 3, 4, 5, 5]]).to(DEVICE)\n",
        "svs = ShapleyValueSampling(model)\n",
        "attributions = svs.attribute(test_dataset.samples[[0]].to(DEVICE), target=0, feature_mask=feature_mask)\n",
        "attributions"
      ],
      "id": "974eca85-1658-4222-95fc-bf3d180baeb5"
    },
    {
      "cell_type": "markdown",
      "metadata": {
        "id": "b9e108b2-15d8-4c0b-bf6f-a64a4fe3b9e2"
      },
      "source": [
        "Notice that, in contrast with the SHAP implementation above, we did not need to pass in the background dataset. This is because Captum takes a slightly different approach to deleting features and instead replaces them with a pre-specified baseline value (see the `baselines` parameter description in the [documentation](https://captum.ai/api/shapley_value_sampling.html)). For the purposes of this coursework, it is fine to use the default (zero) baseline for both Shapley Value Sampling and DeepLIFT."
      ],
      "id": "b9e108b2-15d8-4c0b-bf6f-a64a4fe3b9e2"
    },
    {
      "cell_type": "markdown",
      "metadata": {
        "id": "d5c24e08-7871-44fe-afdd-d15c3c8d1fee"
      },
      "source": [
        "### Feature Attribution Experiments"
      ],
      "id": "d5c24e08-7871-44fe-afdd-d15c3c8d1fee"
    },
    {
      "cell_type": "markdown",
      "metadata": {
        "id": "ce5d4669-00e6-43bb-826f-c0f12aa45f96"
      },
      "source": [
        "In this section, you will conduct several experiments associated with feature attribution methods.\n",
        "\n",
        "**Task 2(b)**: Using your implementation of SHAP and Captum implementations of Shapley Value Sampling and DeepLIFT, compute feature attributions for 10 randomly selected instances from the Titanic test set. Then answer the following questions: <br />\n",
        "**(i)** Which features generally seem to be the most important and least important for the explained model according to each of the explanations? <br />\n",
        "**(ii)** Are there any substantial differences between the different attribution methods? What might be the possible reasons for the different methods returning different attribution scores? <br />\n",
        "**(iii)** Do the attribution scores match your expectations for the most/least important features from task 1(a)(ii)? What might be the reasons for a user's expected explanations differing from the computed attribution explanations? <br />\n",
        "**(iv)** Considering the insights gained from the exploratory data analysis and the feature attribution explanations, as well as the definitions of the explanations themselves, what are the potential advantages/disadvantages of each of these methods when trying to understand the behaviour of a model on a particular dataset? <br />"
      ],
      "id": "ce5d4669-00e6-43bb-826f-c0f12aa45f96"
    },
    {
      "cell_type": "code",
      "execution_count": null,
      "metadata": {
        "colab": {
          "background_save": true
        },
        "id": "RGHUbRwdDTCH",
        "outputId": "438d3774-74c1-4840-b4ec-d677b24edcc5"
      },
      "outputs": [
        {
          "name": "stdout",
          "output_type": "stream",
          "text": [
            "tensor([ 0.0000,  0.2258,  0.0000,  0.0000, -0.1050,  0.0000,  1.0000])\n",
            "[1]\n",
            "[0, 1, 2, 3, 4, 5, 5]\n",
            "[True, False, True, True, True, True, True]\n",
            "torch.Size([7])\n",
            "torch.Size([7, 7])\n"
          ]
        },
        {
          "name": "stderr",
          "output_type": "stream",
          "text": [
            "/usr/local/lib/python3.10/dist-packages/torch/masked/maskedtensor/core.py:156: UserWarning: The PyTorch API of MaskedTensors is in prototype stage and will change in the near future. Please open a Github issue for features requests and see our documentation on the torch.masked module for further information about the project.\n",
            "  warnings.warn((\"The PyTorch API of MaskedTensors is in prototype stage \"\n"
          ]
        },
        {
          "ename": "ValueError",
          "evalue": "data.dim() must equal mask.dim()",
          "output_type": "error",
          "traceback": [
            "\u001b[0;31m---------------------------------------------------------------------------\u001b[0m",
            "\u001b[0;31mValueError\u001b[0m                                Traceback (most recent call last)",
            "\u001b[0;32m<ipython-input-19-11fc1746ec49>\u001b[0m in \u001b[0;36m<cell line: 2>\u001b[0;34m()\u001b[0m\n\u001b[1;32m      1\u001b[0m \u001b[0mfeature_ids\u001b[0m \u001b[0;34m=\u001b[0m \u001b[0mlist\u001b[0m\u001b[0;34m(\u001b[0m\u001b[0mfeature_mask\u001b[0m\u001b[0;34m.\u001b[0m\u001b[0mnumpy\u001b[0m\u001b[0;34m(\u001b[0m\u001b[0;34m)\u001b[0m\u001b[0;34m[\u001b[0m\u001b[0;36m0\u001b[0m\u001b[0;34m]\u001b[0m\u001b[0;34m)\u001b[0m\u001b[0;34m\u001b[0m\u001b[0;34m\u001b[0m\u001b[0m\n\u001b[0;32m----> 2\u001b[0;31m \u001b[0mshap_atts\u001b[0m \u001b[0;34m=\u001b[0m \u001b[0mshap_attribute\u001b[0m\u001b[0;34m(\u001b[0m\u001b[0mmodel\u001b[0m\u001b[0;34m,\u001b[0m \u001b[0mtest_dataset\u001b[0m\u001b[0;34m.\u001b[0m\u001b[0msamples\u001b[0m\u001b[0;34m[\u001b[0m\u001b[0;36m0\u001b[0m\u001b[0;34m]\u001b[0m\u001b[0;34m,\u001b[0m \u001b[0mtest_dataset\u001b[0m\u001b[0;34m.\u001b[0m\u001b[0msamples\u001b[0m\u001b[0;34m[\u001b[0m\u001b[0;36m0\u001b[0m\u001b[0;34m]\u001b[0m\u001b[0;34m,\u001b[0m \u001b[0mfeature_ids\u001b[0m\u001b[0;34m)\u001b[0m\u001b[0;34m\u001b[0m\u001b[0;34m\u001b[0m\u001b[0m\n\u001b[0m",
            "\u001b[0;32m<ipython-input-17-3cb57f84aa74>\u001b[0m in \u001b[0;36mshap_attribute\u001b[0;34m(model, x, background_dataset, feature_ids, target_idx)\u001b[0m\n\u001b[1;32m     23\u001b[0m         \u001b[0mcoalitions\u001b[0m \u001b[0;34m=\u001b[0m \u001b[0mgenerate_coalitions\u001b[0m\u001b[0;34m(\u001b[0m\u001b[0mfeature_ids\u001b[0m\u001b[0;34m,\u001b[0m \u001b[0mfeature_ids\u001b[0m\u001b[0;34m[\u001b[0m\u001b[0mfeature\u001b[0m\u001b[0;34m]\u001b[0m\u001b[0;34m)\u001b[0m\u001b[0;34m\u001b[0m\u001b[0;34m\u001b[0m\u001b[0m\n\u001b[1;32m     24\u001b[0m         \u001b[0;32mfor\u001b[0m \u001b[0mcoalition\u001b[0m \u001b[0;32min\u001b[0m \u001b[0mcoalitions\u001b[0m\u001b[0;34m:\u001b[0m\u001b[0;34m\u001b[0m\u001b[0;34m\u001b[0m\u001b[0m\n\u001b[0;32m---> 25\u001b[0;31m           \u001b[0mx_deleted\u001b[0m \u001b[0;34m=\u001b[0m \u001b[0mdelete_features\u001b[0m\u001b[0;34m(\u001b[0m\u001b[0mx\u001b[0m\u001b[0;34m,\u001b[0m \u001b[0mbackground_dataset\u001b[0m\u001b[0;34m,\u001b[0m \u001b[0mfeature_ids\u001b[0m\u001b[0;34m,\u001b[0m \u001b[0mcoalition\u001b[0m\u001b[0;34m)\u001b[0m\u001b[0;34m\u001b[0m\u001b[0;34m\u001b[0m\u001b[0m\n\u001b[0m\u001b[1;32m     26\u001b[0m           \u001b[0mbaseline_prediction\u001b[0m \u001b[0;34m=\u001b[0m \u001b[0mmodel\u001b[0m\u001b[0;34m.\u001b[0m\u001b[0mpredict\u001b[0m\u001b[0;34m(\u001b[0m\u001b[0mx_deleted\u001b[0m\u001b[0;34m)\u001b[0m\u001b[0;34m\u001b[0m\u001b[0;34m\u001b[0m\u001b[0m\n\u001b[1;32m     27\u001b[0m           \u001b[0mremoved_prediction\u001b[0m \u001b[0;34m=\u001b[0m \u001b[0mmodel\u001b[0m\u001b[0;34m.\u001b[0m\u001b[0mpredict\u001b[0m\u001b[0;34m(\u001b[0m\u001b[0mdelete_features\u001b[0m\u001b[0;34m(\u001b[0m\u001b[0mx_deleted\u001b[0m\u001b[0;34m,\u001b[0m \u001b[0mbackground_dataset\u001b[0m\u001b[0;34m,\u001b[0m \u001b[0mfeature_ids\u001b[0m\u001b[0;34m,\u001b[0m \u001b[0mfeature_ids\u001b[0m\u001b[0;34m[\u001b[0m\u001b[0mfeature\u001b[0m\u001b[0;34m]\u001b[0m\u001b[0;34m)\u001b[0m\u001b[0;34m)\u001b[0m\u001b[0;34m\u001b[0m\u001b[0;34m\u001b[0m\u001b[0m\n",
            "\u001b[0;32m<ipython-input-16-9c0a0d5f75ee>\u001b[0m in \u001b[0;36mdelete_features\u001b[0;34m(x, background_dataset, feature_ids, deleted_feature_ids)\u001b[0m\n\u001b[1;32m     27\u001b[0m     \u001b[0mprint\u001b[0m\u001b[0;34m(\u001b[0m\u001b[0mfull_mask\u001b[0m\u001b[0;34m.\u001b[0m\u001b[0mshape\u001b[0m\u001b[0;34m)\u001b[0m\u001b[0;34m\u001b[0m\u001b[0;34m\u001b[0m\u001b[0m\n\u001b[1;32m     28\u001b[0m \u001b[0;34m\u001b[0m\u001b[0m\n\u001b[0;32m---> 29\u001b[0;31m     \u001b[0;32mreturn\u001b[0m \u001b[0mmasked_tensor\u001b[0m\u001b[0;34m(\u001b[0m\u001b[0mx\u001b[0m\u001b[0;34m,\u001b[0m \u001b[0mfull_mask\u001b[0m\u001b[0;34m)\u001b[0m\u001b[0;34m\u001b[0m\u001b[0;34m\u001b[0m\u001b[0m\n\u001b[0m\u001b[1;32m     30\u001b[0m \u001b[0;34m\u001b[0m\u001b[0m\n",
            "\u001b[0;32m/usr/local/lib/python3.10/dist-packages/torch/masked/maskedtensor/creation.py\u001b[0m in \u001b[0;36mmasked_tensor\u001b[0;34m(data, mask, requires_grad)\u001b[0m\n\u001b[1;32m     16\u001b[0m \u001b[0;34m\u001b[0m\u001b[0m\n\u001b[1;32m     17\u001b[0m \u001b[0;32mdef\u001b[0m \u001b[0mmasked_tensor\u001b[0m\u001b[0;34m(\u001b[0m\u001b[0mdata\u001b[0m\u001b[0;34m,\u001b[0m \u001b[0mmask\u001b[0m\u001b[0;34m,\u001b[0m \u001b[0mrequires_grad\u001b[0m\u001b[0;34m=\u001b[0m\u001b[0;32mFalse\u001b[0m\u001b[0;34m)\u001b[0m\u001b[0;34m:\u001b[0m\u001b[0;34m\u001b[0m\u001b[0;34m\u001b[0m\u001b[0m\n\u001b[0;32m---> 18\u001b[0;31m     \u001b[0;32mreturn\u001b[0m \u001b[0mMaskedTensor\u001b[0m\u001b[0;34m(\u001b[0m\u001b[0mdata\u001b[0m\u001b[0;34m,\u001b[0m \u001b[0mmask\u001b[0m\u001b[0;34m,\u001b[0m \u001b[0mrequires_grad\u001b[0m\u001b[0;34m)\u001b[0m\u001b[0;34m\u001b[0m\u001b[0;34m\u001b[0m\u001b[0m\n\u001b[0m\u001b[1;32m     19\u001b[0m \u001b[0;34m\u001b[0m\u001b[0m\n\u001b[1;32m     20\u001b[0m \u001b[0;32mdef\u001b[0m \u001b[0mas_masked_tensor\u001b[0m\u001b[0;34m(\u001b[0m\u001b[0mdata\u001b[0m\u001b[0;34m,\u001b[0m \u001b[0mmask\u001b[0m\u001b[0;34m)\u001b[0m\u001b[0;34m:\u001b[0m\u001b[0;34m\u001b[0m\u001b[0;34m\u001b[0m\u001b[0m\n",
            "\u001b[0;32m/usr/local/lib/python3.10/dist-packages/torch/masked/maskedtensor/core.py\u001b[0m in \u001b[0;36m__init__\u001b[0;34m(self, data, mask, requires_grad)\u001b[0m\n\u001b[1;32m    216\u001b[0m     \u001b[0;32mdef\u001b[0m \u001b[0m__init__\u001b[0m\u001b[0;34m(\u001b[0m\u001b[0mself\u001b[0m\u001b[0;34m,\u001b[0m \u001b[0mdata\u001b[0m\u001b[0;34m,\u001b[0m \u001b[0mmask\u001b[0m\u001b[0;34m,\u001b[0m \u001b[0mrequires_grad\u001b[0m\u001b[0;34m=\u001b[0m\u001b[0;32mFalse\u001b[0m\u001b[0;34m)\u001b[0m\u001b[0;34m:\u001b[0m\u001b[0;34m\u001b[0m\u001b[0;34m\u001b[0m\u001b[0m\n\u001b[1;32m    217\u001b[0m         \u001b[0mself\u001b[0m\u001b[0;34m.\u001b[0m\u001b[0m_preprocess_data\u001b[0m\u001b[0;34m(\u001b[0m\u001b[0mdata\u001b[0m\u001b[0;34m,\u001b[0m \u001b[0mmask\u001b[0m\u001b[0;34m)\u001b[0m\u001b[0;34m\u001b[0m\u001b[0;34m\u001b[0m\u001b[0m\n\u001b[0;32m--> 218\u001b[0;31m         \u001b[0mself\u001b[0m\u001b[0;34m.\u001b[0m\u001b[0m_validate_members\u001b[0m\u001b[0;34m(\u001b[0m\u001b[0;34m)\u001b[0m\u001b[0;34m\u001b[0m\u001b[0;34m\u001b[0m\u001b[0m\n\u001b[0m\u001b[1;32m    219\u001b[0m \u001b[0;34m\u001b[0m\u001b[0m\n\u001b[1;32m    220\u001b[0m     \u001b[0;34m@\u001b[0m\u001b[0mstaticmethod\u001b[0m\u001b[0;34m\u001b[0m\u001b[0;34m\u001b[0m\u001b[0m\n",
            "\u001b[0;32m/usr/local/lib/python3.10/dist-packages/torch/masked/maskedtensor/core.py\u001b[0m in \u001b[0;36m_validate_members\u001b[0;34m(self)\u001b[0m\n\u001b[1;32m    210\u001b[0m             \u001b[0;32mraise\u001b[0m \u001b[0mTypeError\u001b[0m\u001b[0;34m(\u001b[0m\u001b[0;34mf\"{data.dtype} is not supported in MaskedTensor.\"\u001b[0m\u001b[0;34m)\u001b[0m\u001b[0;34m\u001b[0m\u001b[0;34m\u001b[0m\u001b[0m\n\u001b[1;32m    211\u001b[0m         \u001b[0;32mif\u001b[0m \u001b[0mdata\u001b[0m\u001b[0;34m.\u001b[0m\u001b[0mdim\u001b[0m\u001b[0;34m(\u001b[0m\u001b[0;34m)\u001b[0m \u001b[0;34m!=\u001b[0m \u001b[0mmask\u001b[0m\u001b[0;34m.\u001b[0m\u001b[0mdim\u001b[0m\u001b[0;34m(\u001b[0m\u001b[0;34m)\u001b[0m\u001b[0;34m:\u001b[0m\u001b[0;34m\u001b[0m\u001b[0;34m\u001b[0m\u001b[0m\n\u001b[0;32m--> 212\u001b[0;31m             \u001b[0;32mraise\u001b[0m \u001b[0mValueError\u001b[0m\u001b[0;34m(\u001b[0m\u001b[0;34m\"data.dim() must equal mask.dim()\"\u001b[0m\u001b[0;34m)\u001b[0m\u001b[0;34m\u001b[0m\u001b[0;34m\u001b[0m\u001b[0m\n\u001b[0m\u001b[1;32m    213\u001b[0m         \u001b[0;32mif\u001b[0m \u001b[0mdata\u001b[0m\u001b[0;34m.\u001b[0m\u001b[0msize\u001b[0m\u001b[0;34m(\u001b[0m\u001b[0;34m)\u001b[0m \u001b[0;34m!=\u001b[0m \u001b[0mmask\u001b[0m\u001b[0;34m.\u001b[0m\u001b[0msize\u001b[0m\u001b[0;34m(\u001b[0m\u001b[0;34m)\u001b[0m\u001b[0;34m:\u001b[0m\u001b[0;34m\u001b[0m\u001b[0;34m\u001b[0m\u001b[0m\n\u001b[1;32m    214\u001b[0m             \u001b[0;32mraise\u001b[0m \u001b[0mValueError\u001b[0m\u001b[0;34m(\u001b[0m\u001b[0;34m\"data.size() must equal mask.size()\"\u001b[0m\u001b[0;34m)\u001b[0m\u001b[0;34m\u001b[0m\u001b[0;34m\u001b[0m\u001b[0m\n",
            "\u001b[0;31mValueError\u001b[0m: data.dim() must equal mask.dim()"
          ]
        }
      ],
      "source": [
        "\n",
        "feature_ids = list(feature_mask.numpy()[0])\n",
        "shap_atts = shap_attribute(model, test_dataset.samples[0], test_dataset.samples[0], feature_ids)\n"
      ],
      "id": "RGHUbRwdDTCH"
    },
    {
      "cell_type": "code",
      "execution_count": null,
      "metadata": {
        "colab": {
          "background_save": true
        },
        "id": "c2680c1c-9276-45c1-94ae-c10a660b74f5"
      },
      "outputs": [],
      "source": [
        "import random\n",
        "n_samples = 10\n",
        "total_atts_cap = np.zeros(7)\n",
        "total_atts_shap = np.zeros(7)\n",
        "len_samples = len(test_dataset.samples)\n",
        "feature_ids = list(feature_mask.numpy()[0])\n",
        "\n",
        "for i in range(n_samples):\n",
        "  attributions = svs.attribute(test_dataset.samples[[np.random.randint(0, len_samples)]].to(DEVICE), target=0, feature_mask=feature_mask).numpy()[0]\n",
        "  total_atts_cap += attributions\n",
        "  shap_atts = shap_attribute(model, test_dataset.samples[[np.random.randint(0, len_samples)]], test_dataset.samples[[np.random.randint(0, len_samples)]], feature_ids)\n",
        "\n",
        "print(total_atts)\n",
        "total_atts = total_atts/n_samples\n",
        "total_atts\n"
      ],
      "id": "c2680c1c-9276-45c1-94ae-c10a660b74f5"
    },
    {
      "cell_type": "code",
      "execution_count": null,
      "metadata": {
        "colab": {
          "background_save": true
        },
        "id": "BOiRzmGI-OH8"
      },
      "outputs": [],
      "source": [
        "feature_mask"
      ],
      "id": "BOiRzmGI-OH8"
    },
    {
      "cell_type": "markdown",
      "metadata": {
        "id": "548f1001-218e-46a8-b4cf-303f2939c234"
      },
      "source": [
        "**Task 2(c)**: Perform a quantitative evaluation of the different attribution methods by computing their mean [infidelity](https://captum.ai/api/metrics.html) on the full Titanic dataset. On a high level, infidelity aims to estimate how closely the generated explanations correspond with the behaviour of the explained model by slightly perturbing the inputs and measuring how much the observed change in the model output differs from the change predicted by the corresponding feature attributions (when considering a linear model with the same weights as the feature attribution scores). If you are interested, you can find more details regarding this metric in [the original paper](https://arxiv.org/abs/1901.09392). A downside of the infidelity metric is that one needs to define a suitable perturbation function for changing the model inputs, which can significantly affect the results. In this coursework, we provide you with a perturbation function adding Gaussian noise to continuous features and performing resampling for categorical features. In your evaluation, you should experiment with two or three different standard deviations and categorical resampling probabilities. Once you are done, add a table summarising the results to your report and comment on the findings. Note that lower infidelity scores are better.\n",
        "\n",
        "Note: You should use `normalize=True` and `n_perturb_samples=10` as parameters to the Captum's infidelity function and set the same Torch and NumPy seeds before computing the infidelity for each method (so that all methods are evaluated using the same sample perturbations)."
      ],
      "id": "548f1001-218e-46a8-b4cf-303f2939c234"
    },
    {
      "cell_type": "code",
      "execution_count": null,
      "metadata": {
        "colab": {
          "background_save": true
        },
        "id": "9ffeb0f4-180f-4c7c-8a3f-258d3725ddfb"
      },
      "outputs": [],
      "source": [
        "from captum.metrics import infidelity, infidelity_perturb_func_decorator\n",
        "\n",
        "def perturb_func_constructor(noise_scale, cat_resample_proba, background_dataset, feature_ids, n_perturb_samples=10):\n",
        "    \"\"\"\n",
        "    You can call this function to construct a perturbation function with the desired parameters,\n",
        "    which can then be provided as the perturb_func parameter to the infidelity metric implementation\n",
        "    from Captum.\n",
        "\n",
        "     Parameters:\n",
        "        noise_scale (float): A standard deviation of the Gaussian noise added to the continuous features.\n",
        "        cat_resample_proba (float): Probability of resampling a categorical feature.\n",
        "        background_dataset (Tensor): A tensor of background data samples with the shape (num_samples, num_features).\n",
        "        feature_ids (list): A list with feature IDs, same as in generate_coalitions.\n",
        "        n_perturb_samples (int): The number of perturbed samples for each input. Should match the value\n",
        "            of the corresponding parameter to the Captum's infidelity function.\n",
        "\n",
        "    Returns:\n",
        "        perturb_func (function): A perturbation function compatible with Captum\n",
        "    \"\"\"\n",
        "    @infidelity_perturb_func_decorator(True)\n",
        "    def perturb_func(inputs):\n",
        "        # Construct masks for noise and resampling categorical variables\n",
        "        noise_mask = torch.ones(1, inputs.size(1)).to(DEVICE)\n",
        "        # We assume that categorical features are one-hot-encoded\n",
        "        i = 0\n",
        "        current_span_start = 0\n",
        "        categorical_spans = []\n",
        "        while i < len(feature_ids) - 1:\n",
        "            if feature_ids[i] != feature_ids[i + 1] and current_span_start != i:\n",
        "                categorical_spans.append((current_span_start, i))\n",
        "                current_span_start = i + 1\n",
        "            elif feature_ids[i] != feature_ids[i + 1]:\n",
        "                current_span_start = i + 1\n",
        "            elif feature_ids[i] == feature_ids[i + 1] and i == len(feature_ids) - 2:\n",
        "                categorical_spans.append((current_span_start, i + 1))\n",
        "            i += 1\n",
        "\n",
        "        cat_resample_masks = []\n",
        "        for i, (s, e) in enumerate(categorical_spans):\n",
        "            cat_resample_mask = torch.zeros(inputs.shape).to(DEVICE)\n",
        "            probabilities = torch.full((inputs.size(0), 1), cat_resample_proba)\n",
        "            resample_tensor = torch.bernoulli(probabilities)\n",
        "            noise_mask[:, s:e] = 0.\n",
        "            cat_resample_mask[:, s:e] = resample_tensor\n",
        "            cat_resample_masks.append(cat_resample_mask)\n",
        "\n",
        "        # Add noise to continuous features only\n",
        "        noise = torch.tensor(np.random.normal(0, noise_scale, inputs.shape)).float().to(DEVICE) * noise_mask\n",
        "        perturbed_inputs = inputs - noise\n",
        "\n",
        "        # Randomly resample categorical variables\n",
        "        if categorical_spans:\n",
        "            expanded_background_dataset = background_dataset.repeat((n_perturb_samples, 1))\n",
        "            for cat_resample_mask in cat_resample_masks:\n",
        "                random_perm = torch.randperm(expanded_background_dataset.size(0))\n",
        "                random_samples = expanded_background_dataset[random_perm[:inputs.size(0)]]\n",
        "                perturbed_inputs = perturbed_inputs * (1 - cat_resample_mask) + random_samples * cat_resample_mask\n",
        "\n",
        "        return perturbed_inputs\n",
        "\n",
        "    return perturb_func"
      ],
      "id": "9ffeb0f4-180f-4c7c-8a3f-258d3725ddfb"
    },
    {
      "cell_type": "code",
      "execution_count": null,
      "metadata": {
        "colab": {
          "background_save": true
        },
        "id": "a36cb06b-f3ae-4888-905f-54d8cb5ae7bb"
      },
      "outputs": [],
      "source": [
        "# TODO: Your code and experiments here"
      ],
      "id": "a36cb06b-f3ae-4888-905f-54d8cb5ae7bb"
    },
    {
      "cell_type": "markdown",
      "metadata": {
        "id": "611be864-83ac-467c-8925-e5dfa6927463"
      },
      "source": [
        "**Task 2(d)**: Evaluate the computational efficiency of the different methods by taking the following steps: <br />\n",
        "**(i)** Preproccess the [Dry Bean Dataset](https://archive.ics.uci.edu/dataset/602/dry+bean+dataset), similarly to what we have done for Titanic. You can find the description of the different features on the dataset webpage along with the instructions on how to import the data in a Python environment. You do not need to perform any exploratory data analysis for this dataset. <br />\n",
        "**(ii)** Train an additional neural model on the preprocessed data. Briefly report the key performance metrics for the model in your report. <br />\n",
        "**(iii)** Compute the runtimes required to produce the attribution scores for the different methods when considering the first 200 samples in the Titanic and Dry Bean test sets. Report the results in a table in your report. Which methods seem to be the most/least computationally efficient?"
      ],
      "id": "611be864-83ac-467c-8925-e5dfa6927463"
    },
    {
      "cell_type": "code",
      "execution_count": null,
      "metadata": {
        "colab": {
          "background_save": true
        },
        "id": "d411bc2f-3ece-4352-8e2f-66c771e5916e"
      },
      "outputs": [],
      "source": [
        "# TODO: Your code and experiments here"
      ],
      "id": "d411bc2f-3ece-4352-8e2f-66c771e5916e"
    },
    {
      "cell_type": "markdown",
      "metadata": {
        "id": "37ec783c-e350-473e-b3e1-140095ebed53"
      },
      "source": [
        "## Counterfactual Explanations"
      ],
      "id": "37ec783c-e350-473e-b3e1-140095ebed53"
    },
    {
      "cell_type": "markdown",
      "metadata": {
        "id": "5eb92884-22cd-46e4-824d-8354e35ce856"
      },
      "source": [
        "### Designing a Distance Metric"
      ],
      "id": "5eb92884-22cd-46e4-824d-8354e35ce856"
    },
    {
      "cell_type": "markdown",
      "metadata": {
        "id": "128f2aac-ad49-4a47-a74a-21158879f06d"
      },
      "source": [
        "**Task 3(a)**: First, we need to specify a suitable distance metric for measuring the closeness between the points. Depending on the dataset, one could choose the standard distance functions like the Manhattan (L1) distance, Euclidean (L2) distance, and more specialised ones like Gower distance for better handling datasets with both categorical and continuous dataset. However, the design of distance metric can be very flexible. For example, the standard L1 distance is (k is the number of features) $$d_{L1}(x, x') = \\sum_{i}^{k} |x_i-x'_i|$$\n",
        "\n",
        "If the features have different value ranges, we could normalise the L1 distance with the maximum and minimum values of each feature (indexed $i$) in the training dataset, $max_i$, $min_i$ : $$d_{L1, normalised}(x, x') = \\sum_{i}^{k} |(x_i-x'_i)/(max_i-min_i)|$$\n",
        "\n",
        "On top of this, we could also add customised weighting factors $\\mathbf{w}=w_1, ..., w_k$ to capture the importance of each feature, and the weighted L1 distance is: $$d_{L1, normalised, weighted}(x, x') = \\sum_{i}^{k} w_i|(x_i-x'_i)/(max_i-min_i)|$$\n",
        "\n",
        "Given the background above, we want to design a distance function for the preprocessed version of our Titanic dataset. Explore the dataset characteristics and answer the following questions:\n",
        "**a)** Briefly discuss the weighting of each input variable in the preprocessed dataset, if we use standard L1 and normalised L1?\n",
        "**b)** If we want to treat each feature equally in the original unprocessed dataset, how would you design the distance metric for the preprocessed dataset using L1-based distance? Write down the detail of your distance function for the preprocessed dataset and justify why each original feature is treated equally.\n",
        "**c)** Implement your distance function below"
      ],
      "id": "128f2aac-ad49-4a47-a74a-21158879f06d"
    },
    {
      "cell_type": "code",
      "execution_count": 20,
      "metadata": {
        "id": "2b077fa1-b082-438a-806b-119714ca33eb"
      },
      "outputs": [],
      "source": [
        "def distance_function(x1, x2):\n",
        "    \"\"\"\n",
        "    Your distance function.\n",
        "\n",
        "    Parameters:\n",
        "        x1 (Tensor): A 1-d array of shape (k,)\n",
        "        x2 (Tensor): A 1-d array of shape (k,)\n",
        "\n",
        "    Returns:\n",
        "        distance (float): A real number >= 0\n",
        "    \"\"\"\n",
        "\n",
        "    return sum([abs(x1[i] - x2[i]) for i in range(len(x1))])"
      ],
      "id": "2b077fa1-b082-438a-806b-119714ca33eb"
    },
    {
      "cell_type": "markdown",
      "metadata": {
        "id": "df345ad0-6bdb-47b9-abf9-598c23a963c4"
      },
      "source": [
        "### Nearest-Neighbour Counterfactual Explanations (NNCE)\n",
        "\n",
        "**Task 3(b)**: As introduced in the tutorial, NNCEs are a simple yet effective method for finding counterfactuals. Implement the NNCE functions.\n",
        "\n",
        "Instructions:\n",
        "1. determine desired label for the counterfactual\n",
        "2. find the dataset points with desired label as predicted by the model\n",
        "3. find the point with the minimum distance and return it as NNCE"
      ],
      "id": "df345ad0-6bdb-47b9-abf9-598c23a963c4"
    },
    {
      "cell_type": "code",
      "execution_count": 63,
      "metadata": {
        "colab": {
          "base_uri": "https://localhost:8080/"
        },
        "id": "47409a30-fbad-4371-99d6-b87d30cd6590",
        "outputId": "4dbcb548-0622-4786-ca67-132010a93581"
      },
      "outputs": [
        {
          "output_type": "stream",
          "name": "stdout",
          "text": [
            "tensor([0.0023], grad_fn=<SigmoidBackward0>)\n",
            "tensor([0.1052], grad_fn=<SigmoidBackward0>)\n"
          ]
        }
      ],
      "source": [
        "def compute_nnce(x, m, train_set, dist):\n",
        "    \"\"\"\n",
        "    Function to compute NNCE.\n",
        "\n",
        "    Parameters:\n",
        "        x (Tensor): Input, a 1-d array of shape (k,)\n",
        "        m (Sequential): Our neural network\n",
        "        train_set (TitanicDataset): Our Titanic dataset\n",
        "        dist (function): Your previously implemented distance function\n",
        "\n",
        "    Returns:\n",
        "        nnce (Tensor): Nearest neighbour counterfactual explanation, an 1-d array of shape (k,)\n",
        "    \"\"\"\n",
        "\n",
        "    # Convert input to tensor if it's not already\n",
        "    desired_label = np.round(m(x)[0].detach().numpy()) + 1 % 2\n",
        "    counter = 0\n",
        "    indices = []\n",
        "    distances = []\n",
        "\n",
        "    for sample in train_set:\n",
        "      prediction = m(sample[0])\n",
        "      if np.round(prediction[0].detach().numpy()) == desired_label:\n",
        "        distances.append(dist(x, sample[0]))\n",
        "        indices.append(counter)\n",
        "\n",
        "    distances = torch.tensor(distances)\n",
        "    nearest_neighbor_index = indices[torch.argmin(distances)]\n",
        "\n",
        "    # Return the input of the nearest neighbor as the counterfactual explanation\n",
        "    nnce = train_set[nearest_neighbor_index][0]\n",
        "\n",
        "    return nnce\n"
      ],
      "id": "47409a30-fbad-4371-99d6-b87d30cd6590"
    },
    {
      "cell_type": "code",
      "execution_count": 64,
      "metadata": {
        "colab": {
          "base_uri": "https://localhost:8080/"
        },
        "id": "07e25d4e-eb20-4a62-a468-64ce6834d6ad",
        "outputId": "26e1191f-b9ac-4aae-a28d-4b488a5ad38d"
      },
      "outputs": [
        {
          "output_type": "stream",
          "name": "stdout",
          "text": [
            "tensor([0.0023], grad_fn=<SigmoidBackward0>)\n",
            "tensor([0.1052], grad_fn=<SigmoidBackward0>)\n"
          ]
        }
      ],
      "source": [
        "# use this code block to test if your function is working\n",
        "# first print out the original input's prediction result\n",
        "test_input = test_dataset.samples.to(DEVICE)[0]\n",
        "print(model(test_input))\n",
        "\n",
        "# now compute NNCE and print out the NNCE's prediction result. Ideally this is different from the result for the original input.\n",
        "nnce = compute_nnce(test_input, model, train_set=train_dataset, dist=distance_function)\n",
        "print(model(nnce))"
      ],
      "id": "07e25d4e-eb20-4a62-a468-64ce6834d6ad"
    },
    {
      "cell_type": "markdown",
      "metadata": {
        "id": "a3c6290a-7c2b-4064-8ed0-3a4056bac9dc"
      },
      "source": [
        "### Gradient-Based Counterfactual Explanations\n",
        "\n",
        "**Task 3(c)**: Complete the PyTorch implementation for the gradient-based method in [Wachter et al. 2017]: WAC.\n",
        "\n",
        "Instructions:\n",
        "1. We are going to optimise the following loss function to find a counterfactual x': $  argmin_{x'} \\text{ } BCE(y', (1-y)) + \\lambda cost(x, x')$, where $BCE$ is binary cross entropy loss, $y'$ is the predicted label of $x'$, $y$ is the predicted label of $x$, $cost(,)$ is your chosen distance function in Task 1, and $\\lambda$ is the trade-off parameter between validity and proximity. First, implement your chosen distance metric in ```CostLoss.forward()```\n",
        "2. Follow the code structure in the ```compute_wac()``` function, complete the implementation.\n",
        "    2.1. specify the target label for the counterfactual\n",
        "    2.2. implement gradient descent procedures"
      ],
      "id": "a3c6290a-7c2b-4064-8ed0-3a4056bac9dc"
    },
    {
      "cell_type": "code",
      "execution_count": 66,
      "metadata": {
        "id": "aa6aae81-d6bb-4037-810d-198c00143334"
      },
      "outputs": [],
      "source": [
        "import torch.nn as nn\n",
        "\n",
        "\n",
        "class CostLoss(nn.Module):\n",
        "    def __init__(self, weight=None, size_average=True):\n",
        "        super(CostLoss, self).__init__()\n",
        "\n",
        "    def forward(self, x1, x2):\n",
        "        \"\"\"\n",
        "        The PyTorch version of your distance function\n",
        "\n",
        "        Parameters:\n",
        "            x1 (Tensor): A 1-d array of shape (k,)\n",
        "            x2 (Tensor): A 1-d array of shape (k,)\n",
        "\n",
        "        Returns:\n",
        "            distance (Tensor): a real number\n",
        "        \"\"\"\n",
        "        return distance_function(x1, x2)"
      ],
      "id": "aa6aae81-d6bb-4037-810d-198c00143334"
    },
    {
      "cell_type": "code",
      "execution_count": 71,
      "metadata": {
        "id": "eb8ae1f7-8c47-4a71-a817-2f22d48a64b1"
      },
      "outputs": [],
      "source": [
        "from torch.autograd import Variable\n",
        "from torch.optim import Adam\n",
        "import datetime\n",
        "\n",
        "def compute_wac(x, m, lamb=0.1, lr=0.01, max_iter=1000, max_allowed_minutes=0.5):\n",
        "    \"\"\"\n",
        "    Function to find WAC using gradient descent.\n",
        "\n",
        "    Parameters:\n",
        "        x (Tensor): Input x, an 1-d array of shape (k,)\n",
        "        m (Sequential): PyTorch model\n",
        "        lamb (float): Lambda, the tradeoff term in the loss function\n",
        "        lr (float): Learning rate for gradient descent\n",
        "        max_iter (int): maximum allowed iteration\n",
        "        max_allowed_minutes (float): maximum allowed minutes\n",
        "\n",
        "    Returns:\n",
        "        counterfactual (Tensor): Counterfactual point, an 1-d array of shape (k,)\n",
        "    \"\"\"\n",
        "\n",
        "\n",
        "    DEVICE = torch.device(\"cuda\" if torch.cuda.is_available() else \"cpu\")\n",
        "\n",
        "    # initialise the counterfactual search at the input point\n",
        "    x = x.to(DEVICE)\n",
        "    wac = Variable(x.clone(), requires_grad=True).to(DEVICE)\n",
        "\n",
        "    # initialise an optimiser for gradient descent over the wac counterfactual point\n",
        "    optimiser = Adam([wac], lr=lr, amsgrad=True)\n",
        "\n",
        "    # instantiate the two components of the loss function\n",
        "    validity_loss = torch.nn.BCELoss()\n",
        "    cost_loss = CostLoss()\n",
        "\n",
        "    # specify target label y: either 0 or 1, depending on the original prediction\n",
        "    target_label = (np.round(m(x)[0].detach().numpy()) + 1) % 2\n",
        "\n",
        "    # the total loss in the instructions: loss = validity_loss + lamb * cost_loss\n",
        "\n",
        "    # compute class probability\n",
        "    class_prob = m(wac)\n",
        "    wac_valid = False\n",
        "    iterations = 0\n",
        "    if target_label == 0 and class_prob < 0.5 or target_label == 1 and class_prob >= 0.5:\n",
        "        wac_valid = True\n",
        "\n",
        "    # set maximum allowed time for computing 1 counterfactual\n",
        "    t0 = datetime.datetime.now()\n",
        "    t_max = datetime.timedelta(minutes=max_allowed_minutes)\n",
        "\n",
        "    # start gradient descent - tweak model input with small weight until it flips it's prediction\n",
        "    while not wac_valid or iterations <= max_iter:\n",
        "\n",
        "        # gradient descent to find wac\n",
        "        optimiser.zero_grad()\n",
        "        loss = validity_loss(class_prob, torch.tensor([target_label], dtype=torch.float32).to(DEVICE)) + lamb * cost_loss(x, wac)\n",
        "        loss.backward()\n",
        "        optimiser.step()\n",
        "\n",
        "        # update class probability\n",
        "        class_prob = m(wac)\n",
        "\n",
        "        # break conditions: valid counterfactual found, or iterations exceeded, or reached allowed max time\n",
        "        if (target_label == 0 and class_prob < 0.5) or (target_label == 1 and class_prob >= 0.5):\n",
        "            wac_valid = True\n",
        "        if datetime.datetime.now() - t0 > t_max:\n",
        "            break\n",
        "        iterations += 1\n",
        "\n",
        "    return wac\n",
        "\n",
        "    '''\n",
        "    # initialise the counterfactual search at the input point\n",
        "    x = x.to(DEVICE)\n",
        "    wac = Variable(x.clone(), requires_grad=True).to(DEVICE)\n",
        "\n",
        "    # initialise an optimiser for gradient descent over the wac counterfactual point\n",
        "    optimiser = Adam([wac], lr, amsgrad=True)\n",
        "\n",
        "    # instantiate the two components of the loss function\n",
        "    validity_loss = torch.nn.BCELoss()\n",
        "    cost_loss = CostLoss()\n",
        "\n",
        "    # TASK: specify target label y: either 0 or 1, depending on the original prediction\n",
        "    target_label = np.round(m(x)[0].detach().numpy()) + 1 % 2\n",
        "    # TODO: Start your code here\n",
        "\n",
        "\n",
        "    # the total loss in the instructions: loss = validity_loss + lamb * cost_loss\n",
        "    # TODO: End your code here\n",
        "\n",
        "    # compute class probability\n",
        "    class_prob = m(wac)\n",
        "    wac_valid = False\n",
        "    iterations = 0\n",
        "    if y_target == 0 and class_prob < 0.5 or y_target == 1 and class_prob >= 0.5:\n",
        "        wac_valid = True\n",
        "\n",
        "    # set maximum allowed time for computing 1 counterfactual\n",
        "    t0 = datetime.datetime.now()\n",
        "    t_max = datetime.timedelta(minutes=max_allowed_minutes)\n",
        "    # start gradient descent\n",
        "    while not wac_valid or iterations <= max_iter:\n",
        "\n",
        "        # TASK: gradient descent to find wac\n",
        "        # TODO: Your code here\n",
        "\n",
        "        # break conditions: valid counterfactual found, or iterations exceeded, or reached allowed max time\n",
        "        if y_target == 0 and class_prob < 0.5 or y_target == 1 and class_prob >= 0.5:\n",
        "            wac_valid = True\n",
        "        if datetime.datetime.now() - t0 > t_max:\n",
        "            break\n",
        "        iterations += 1\n",
        "\n",
        "    return wac\n",
        "    '''"
      ],
      "id": "eb8ae1f7-8c47-4a71-a817-2f22d48a64b1"
    },
    {
      "cell_type": "code",
      "execution_count": 72,
      "metadata": {
        "colab": {
          "base_uri": "https://localhost:8080/"
        },
        "id": "3730ddc2-6dbe-46a2-8bf3-e833800c52ef",
        "outputId": "31905ebe-c321-4869-f52d-161c176c5609"
      },
      "outputs": [
        {
          "output_type": "stream",
          "name": "stdout",
          "text": [
            "tensor([0.0022], grad_fn=<SigmoidBackward0>)\n",
            "tensor([0.9907], grad_fn=<SigmoidBackward0>)\n"
          ]
        }
      ],
      "source": [
        "# use this code block to test if your function is working\n",
        "# first print out the original input's prediction result\n",
        "test_input = test_dataset.samples.to(DEVICE)[1]\n",
        "print(model(test_input))\n",
        "\n",
        "# now compute WAC and print out the WAC's prediction result. Ideally this is different from the result for the original input.\n",
        "nnce = compute_wac(test_input, model)\n",
        "print(model(nnce))"
      ],
      "id": "3730ddc2-6dbe-46a2-8bf3-e833800c52ef"
    },
    {
      "cell_type": "markdown",
      "metadata": {
        "id": "9fb7d395-b999-4100-85dd-7b5eed5c57d7"
      },
      "source": [
        "### Performance of the Two Methods\n",
        "\n",
        "**Task 3(d)**: In order to understand better how these two methods compare, we use the following metrics to quantitatively evaluate each of the methods:\n",
        "- Validity: percentage of the counterfactuals that are valid.\n",
        "- Proximity: average distance between the counterfactuals and the inputs. Smaller distance (lower cost) indicates better proximity.\n",
        "- Plausibility: average distance of a counterfactual to its 5 nearest neighbours in the training dataset, further averaged over all counterfactuals. The closer it is to the nearest neighbours, the more plausible. Consider this metric as a simplified version of Local Outlier Factor.\n",
        "\n",
        "For each counterfactual method, we randomly select 20 test inputs, generate counterfactuals for them, and compare the average performances for each of the metrics.\n",
        "We repeat this process for 5 times and calculate the mean and standard deviation of each metrics. We have provided code for these experiments. Complete the following codes for calculating the evaluation metrics:"
      ],
      "id": "9fb7d395-b999-4100-85dd-7b5eed5c57d7"
    },
    {
      "cell_type": "code",
      "execution_count": 73,
      "metadata": {
        "id": "4847e8d0-c76c-462d-a986-ccd2dc300e49"
      },
      "outputs": [],
      "source": [
        "def calculate_three_metrics_for_group_of_inputs(inputs, m, counterfactuals, train_set, dist):\n",
        "    validity, proximity, plausibility = 0, 0, 0\n",
        "    # examine validity, proximity, plausibility for each input-counterfactual pair\n",
        "    for i, x in enumerate(inputs):\n",
        "        ce = counterfactuals[i]\n",
        "\n",
        "        this_val = calculate_validity(x, ce, m)\n",
        "        this_prox = calculate_proximity(x, ce, dist)\n",
        "        this_plaus = calculate_plausibility(ce, train_set, dist)\n",
        "\n",
        "        validity += this_val\n",
        "        proximity += this_prox\n",
        "        plausibility += this_plaus\n",
        "\n",
        "    # average evaluation metrics over all the test inputs\n",
        "    validity = validity / len(inputs)\n",
        "    proximity = proximity / len(inputs)\n",
        "    plausibility = plausibility / len(inputs)\n",
        "    return validity, proximity, plausibility\n",
        "\n",
        "\n",
        "# TASK: for each input-counterfactual pair, calculate validity, proximity, and plausibility\n",
        "\n",
        "# check whether a counterfactual ce is valid or not\n",
        "def calculate_validity(x, ce, m):\n",
        "    # Get predictions for original input and counterfactual\n",
        "    pred_x = m(x)\n",
        "    pred_ce = m(ce)\n",
        "    # Check if predictions are different\n",
        "    if pred_x != pred_ce:\n",
        "        return 1  # Valid\n",
        "    else:\n",
        "        return 0  # Invalid\n",
        "\n",
        "\n",
        "# check the distance between a counterfactual and the input\n",
        "def calculate_proximity(x, ce, dist):\n",
        "    # Compute distance between x and ce using the specified distance metric\n",
        "    return dist(x, ce)\n",
        "\n",
        "# calculate plausibility of a counterfactual\n",
        "def calculate_plausibility(ce, train_set, dist):\n",
        "    # Calculate distances between ce and all points in the training set\n",
        "    distances = [dist(ce, x) for x in train_set]\n",
        "    # Sort distances and select the k nearest neighbors\n",
        "    nearest_neighbors_distances = sorted(distances)[:5]  # Select 5 nearest neighbors\n",
        "    # Calculate the average distance\n",
        "    avg_distance = sum(nearest_neighbors_distances) / len(nearest_neighbors_distances)\n",
        "    return avg_distance"
      ],
      "id": "4847e8d0-c76c-462d-a986-ccd2dc300e49"
    },
    {
      "cell_type": "markdown",
      "metadata": {
        "id": "fd1cb9d3-cb0b-4473-b7d2-166e76032c61"
      },
      "source": [
        "Now we set up the experiments, compute counterfactuals using NNCE and WAC, then evaluate and compare their performances. Note that depending on your machine, the computation for ```compute_wac()``` could potentially be slow. You can also manually change the function's hyperparameters ```lamb=0.1, lr=0.01, max_iter=1000``` to try and see if WAC could give better results."
      ],
      "id": "fd1cb9d3-cb0b-4473-b7d2-166e76032c61"
    },
    {
      "cell_type": "code",
      "execution_count": 74,
      "metadata": {
        "colab": {
          "base_uri": "https://localhost:8080/",
          "height": 439,
          "referenced_widgets": [
            "f235cc7164fc48388aea2be037bf5fce",
            "9cf426a03a0f4b6f91b1e93073c156c6",
            "e85b3f4873644a6cb04e165b87f39401",
            "3112a7114a654848badf801695276d50",
            "35fe19d59c7a4a70870b355d8b1fee79",
            "985dae42973b4410a48f9f7d7ccbeea0",
            "99dfee8519824829aaad9f44a59a41fa",
            "32e15f7a44a3407abc92dd16a19c89e4",
            "3c62e675e30c41bf9825f4b53c263bc9",
            "56a81fec9bf4476f8f6597f1a5f07d31",
            "d60d103a3abf4e2a877fdda07de05e07",
            "9471f48e660e4f388944c24689353081",
            "42d017e061e64fcfa1548d5dacf28048",
            "6b9ebb19c4424e659c5d0bde180be84f",
            "6d6e30b375df4987b3acc09ae93b79b3",
            "0d77dc75927349cdb6a5db0879ce08a1",
            "131471436f1f47b29376913877e4ece9",
            "f90c0de52f1142228cba07baeab8d61f",
            "06e4d2a2c8724ddeba65f110172a8dcc",
            "a5b989d4c206452fa533456b1daf2827",
            "5bdd6285b1354087bf8104fd31150b9e",
            "74ef6b7ff9e54cf2a5d4abbbd98a64c9",
            "9064cc475ac34767b98d3adc8a86cb3d",
            "61f1706f149b45d6bf69c93e0e740a34",
            "d0bbfe0c7a4b43959d15eabf867e5f10",
            "bf81cbd76b3342d68d2805873ede22d4",
            "e79a0ac859f5435cba68a581a52816a7",
            "d5dc172ff80d4d2283b8a9ed4719d3dd",
            "477a51cbb0f44390a2cf053a8c99d896",
            "4b5496288f694024ae0490fc689c96f9",
            "5c6e3f6995af44c195f03a607fc1b2d7",
            "e159096e96d34cd3a26c2576a7fe742e",
            "878b157bcbb24dacbaf6a6233a141110"
          ]
        },
        "id": "9d10f578-a107-4fc5-8a33-246018d9b6c6",
        "outputId": "04d34d49-783c-4dbb-dc5e-7c7386a7469b"
      },
      "outputs": [
        {
          "output_type": "display_data",
          "data": {
            "text/plain": [
              "  0%|          | 0/5 [00:00<?, ?it/s]"
            ],
            "application/vnd.jupyter.widget-view+json": {
              "version_major": 2,
              "version_minor": 0,
              "model_id": "f235cc7164fc48388aea2be037bf5fce"
            }
          },
          "metadata": {}
        },
        {
          "output_type": "display_data",
          "data": {
            "text/plain": [
              "  0%|          | 0/1 [00:00<?, ?it/s]"
            ],
            "application/vnd.jupyter.widget-view+json": {
              "version_major": 2,
              "version_minor": 0,
              "model_id": "9471f48e660e4f388944c24689353081"
            }
          },
          "metadata": {}
        },
        {
          "output_type": "display_data",
          "data": {
            "text/plain": [
              "  0%|          | 0/20 [00:00<?, ?it/s]"
            ],
            "application/vnd.jupyter.widget-view+json": {
              "version_major": 2,
              "version_minor": 0,
              "model_id": "9064cc475ac34767b98d3adc8a86cb3d"
            }
          },
          "metadata": {}
        },
        {
          "output_type": "error",
          "ename": "IndexError",
          "evalue": "argmin(): Expected reduction dim to be specified for input.numel() == 0.",
          "traceback": [
            "\u001b[0;31m---------------------------------------------------------------------------\u001b[0m",
            "\u001b[0;31mIndexError\u001b[0m                                Traceback (most recent call last)",
            "\u001b[0;32m<ipython-input-74-bca7c4c90616>\u001b[0m in \u001b[0;36m<cell line: 7>\u001b[0;34m()\u001b[0m\n\u001b[1;32m     13\u001b[0m     \u001b[0;32mwith\u001b[0m \u001b[0mtqdm\u001b[0m\u001b[0;34m(\u001b[0m\u001b[0mtotal\u001b[0m\u001b[0;34m=\u001b[0m\u001b[0;36m1\u001b[0m\u001b[0;34m,\u001b[0m \u001b[0mposition\u001b[0m\u001b[0;34m=\u001b[0m\u001b[0;36m0\u001b[0m\u001b[0;34m,\u001b[0m \u001b[0mleave\u001b[0m\u001b[0;34m=\u001b[0m\u001b[0;32mTrue\u001b[0m\u001b[0;34m)\u001b[0m \u001b[0;32mas\u001b[0m \u001b[0mpbar\u001b[0m\u001b[0;34m:\u001b[0m\u001b[0;34m\u001b[0m\u001b[0;34m\u001b[0m\u001b[0m\n\u001b[1;32m     14\u001b[0m         \u001b[0;32mfor\u001b[0m \u001b[0mx\u001b[0m \u001b[0;32min\u001b[0m \u001b[0mtqdm\u001b[0m\u001b[0;34m(\u001b[0m\u001b[0mtest_inputs\u001b[0m\u001b[0;34m,\u001b[0m \u001b[0mposition\u001b[0m\u001b[0;34m=\u001b[0m\u001b[0;36m0\u001b[0m\u001b[0;34m,\u001b[0m \u001b[0mleave\u001b[0m\u001b[0;34m=\u001b[0m\u001b[0;32mTrue\u001b[0m\u001b[0;34m)\u001b[0m\u001b[0;34m:\u001b[0m\u001b[0;34m\u001b[0m\u001b[0;34m\u001b[0m\u001b[0m\n\u001b[0;32m---> 15\u001b[0;31m             \u001b[0mnnce_counterfactuals\u001b[0m\u001b[0;34m.\u001b[0m\u001b[0mappend\u001b[0m\u001b[0;34m(\u001b[0m\u001b[0mcompute_nnce\u001b[0m\u001b[0;34m(\u001b[0m\u001b[0mx\u001b[0m\u001b[0;34m,\u001b[0m \u001b[0mmodel\u001b[0m\u001b[0;34m,\u001b[0m \u001b[0mtrain_dataset\u001b[0m\u001b[0;34m,\u001b[0m \u001b[0mdistance_function\u001b[0m\u001b[0;34m)\u001b[0m\u001b[0;34m)\u001b[0m\u001b[0;34m\u001b[0m\u001b[0;34m\u001b[0m\u001b[0m\n\u001b[0m\u001b[1;32m     16\u001b[0m             \u001b[0mwac_counterfactuals\u001b[0m\u001b[0;34m.\u001b[0m\u001b[0mappend\u001b[0m\u001b[0;34m(\u001b[0m\u001b[0mcompute_wac\u001b[0m\u001b[0;34m(\u001b[0m\u001b[0mx\u001b[0m\u001b[0;34m,\u001b[0m \u001b[0mmodel\u001b[0m\u001b[0;34m,\u001b[0m \u001b[0mlamb\u001b[0m\u001b[0;34m=\u001b[0m\u001b[0;36m0.1\u001b[0m\u001b[0;34m)\u001b[0m\u001b[0;34m)\u001b[0m\u001b[0;34m\u001b[0m\u001b[0;34m\u001b[0m\u001b[0m\n\u001b[1;32m     17\u001b[0m             \u001b[0mpbar\u001b[0m\u001b[0;34m.\u001b[0m\u001b[0mupdate\u001b[0m\u001b[0;34m(\u001b[0m\u001b[0;34m)\u001b[0m\u001b[0;34m\u001b[0m\u001b[0;34m\u001b[0m\u001b[0m\n",
            "\u001b[0;32m<ipython-input-63-393d06ce99f1>\u001b[0m in \u001b[0;36mcompute_nnce\u001b[0;34m(x, m, train_set, dist)\u001b[0m\n\u001b[1;32m     26\u001b[0m \u001b[0;34m\u001b[0m\u001b[0m\n\u001b[1;32m     27\u001b[0m     \u001b[0mdistances\u001b[0m \u001b[0;34m=\u001b[0m \u001b[0mtorch\u001b[0m\u001b[0;34m.\u001b[0m\u001b[0mtensor\u001b[0m\u001b[0;34m(\u001b[0m\u001b[0mdistances\u001b[0m\u001b[0;34m)\u001b[0m\u001b[0;34m\u001b[0m\u001b[0;34m\u001b[0m\u001b[0m\n\u001b[0;32m---> 28\u001b[0;31m     \u001b[0mnearest_neighbor_index\u001b[0m \u001b[0;34m=\u001b[0m \u001b[0mindices\u001b[0m\u001b[0;34m[\u001b[0m\u001b[0mtorch\u001b[0m\u001b[0;34m.\u001b[0m\u001b[0margmin\u001b[0m\u001b[0;34m(\u001b[0m\u001b[0mdistances\u001b[0m\u001b[0;34m)\u001b[0m\u001b[0;34m]\u001b[0m\u001b[0;34m\u001b[0m\u001b[0;34m\u001b[0m\u001b[0m\n\u001b[0m\u001b[1;32m     29\u001b[0m \u001b[0;34m\u001b[0m\u001b[0m\n\u001b[1;32m     30\u001b[0m     \u001b[0;31m# Return the input of the nearest neighbor as the counterfactual explanation\u001b[0m\u001b[0;34m\u001b[0m\u001b[0;34m\u001b[0m\u001b[0m\n",
            "\u001b[0;31mIndexError\u001b[0m: argmin(): Expected reduction dim to be specified for input.numel() == 0."
          ]
        }
      ],
      "source": [
        "# we store the evaluation results of the five runs in lists\n",
        "nnce_validity, nnce_proximity, nnce_plausibility = [], [], []\n",
        "wac_validity, wac_proximity, wac_plausibility = [], [], []\n",
        "seed_num = 1000\n",
        "\n",
        "# repeat over 5 runs to obtain more robust evaluations\n",
        "for one_run in tqdm(range(5)):\n",
        "    # randomly select 20 test inputs\n",
        "    np.random.seed(seed_num)\n",
        "    test_inputs = test_dataset.samples[np.random.choice(range(len(test_dataset.samples)), 20)]\n",
        "    nnce_counterfactuals, wac_counterfactuals = [], []\n",
        "    # generate counterfactuals\n",
        "    with tqdm(total=1, position=0, leave=True) as pbar:\n",
        "        for x in tqdm(test_inputs, position=0, leave=True):\n",
        "            nnce_counterfactuals.append(compute_nnce(x, model, train_dataset, distance_function))\n",
        "            wac_counterfactuals.append(compute_wac(x, model, lamb=0.1))\n",
        "            pbar.update()\n",
        "\n",
        "    # evaluate counterfactuals\n",
        "    nnvalidity, nnproximity, nnplausibility = calculate_three_metrics_for_group_of_inputs(test_inputs, model,\n",
        "                                                                                          nnce_counterfactuals,\n",
        "                                                                                          train_dataset,\n",
        "                                                                                          distance_function)\n",
        "    nnce_validity.append(nnvalidity)\n",
        "    nnce_proximity.append(nnproximity)\n",
        "    nnce_plausibility.append(nnplausibility)\n",
        "\n",
        "    wvalidity, wproximity, wplausibility = calculate_three_metrics_for_group_of_inputs(test_inputs, model,\n",
        "                                                                                       wac_counterfactuals,\n",
        "                                                                                       train_dataset, distance_function)\n",
        "    wac_validity.append(wvalidity)\n",
        "    wac_proximity.append(wproximity)\n",
        "    wac_plausibility.append(wplausibility)\n",
        "\n",
        "    seed_num += 10\n",
        "\n",
        "# now print out the results\n",
        "from tabulate import tabulate\n",
        "\n",
        "score_names = [\"method\", \"validity\", \"cost\", \"plausibility\"]\n",
        "score_table = [score_names,\n",
        "               [\"NNCE\", f\"{np.mean(nnce_validity).round(3)} +- {np.std(nnce_validity).round(3)}\",\n",
        "                f\"{np.mean(nnce_proximity).round(3)} +- {np.std(nnce_proximity).round(3)}\",\n",
        "                f\"{np.mean(nnce_plausibility).round(3)} +- {np.std(nnce_plausibility).round(3)}\"],\n",
        "               [\"WAC\", f\"{np.mean(wac_validity).round(3)} +- {np.std(wac_validity).round(3)}\",\n",
        "                f\"{np.mean(wac_proximity).round(3)} +- {np.std(wac_proximity).round(3)}\",\n",
        "                f\"{np.mean(wac_plausibility).round(3)} +- {np.std(wac_plausibility).round(3)}\"]]\n",
        "print(tabulate(score_table, headers='firstrow', tablefmt='outline'))"
      ],
      "id": "9d10f578-a107-4fc5-8a33-246018d9b6c6"
    },
    {
      "cell_type": "markdown",
      "metadata": {
        "id": "2474358c-0c66-444a-b528-d4e99f1d4e78"
      },
      "source": [
        "### Performance Differences\n",
        "\n",
        "**Task 3(e)**: Discuss in your report commenting their performance based on the metrics. Link the findings to their theories."
      ],
      "id": "2474358c-0c66-444a-b528-d4e99f1d4e78"
    }
  ],
  "metadata": {
    "colab": {
      "provenance": [],
      "include_colab_link": true
    },
    "kernelspec": {
      "display_name": "Python 3 (ipykernel)",
      "language": "python",
      "name": "python3"
    },
    "language_info": {
      "codemirror_mode": {
        "name": "ipython",
        "version": 3
      },
      "file_extension": ".py",
      "mimetype": "text/x-python",
      "name": "python",
      "nbconvert_exporter": "python",
      "pygments_lexer": "ipython3",
      "version": "3.10.12"
    },
    "widgets": {
      "application/vnd.jupyter.widget-state+json": {
        "1445bbd64b6146dc88efb8ba49c92302": {
          "model_module": "@jupyter-widgets/base",
          "model_module_version": "1.2.0",
          "model_name": "LayoutModel",
          "state": {
            "_model_module": "@jupyter-widgets/base",
            "_model_module_version": "1.2.0",
            "_model_name": "LayoutModel",
            "_view_count": null,
            "_view_module": "@jupyter-widgets/base",
            "_view_module_version": "1.2.0",
            "_view_name": "LayoutView",
            "align_content": null,
            "align_items": null,
            "align_self": null,
            "border": null,
            "bottom": null,
            "display": null,
            "flex": null,
            "flex_flow": null,
            "grid_area": null,
            "grid_auto_columns": null,
            "grid_auto_flow": null,
            "grid_auto_rows": null,
            "grid_column": null,
            "grid_gap": null,
            "grid_row": null,
            "grid_template_areas": null,
            "grid_template_columns": null,
            "grid_template_rows": null,
            "height": null,
            "justify_content": null,
            "justify_items": null,
            "left": null,
            "margin": null,
            "max_height": null,
            "max_width": null,
            "min_height": null,
            "min_width": null,
            "object_fit": null,
            "object_position": null,
            "order": null,
            "overflow": null,
            "overflow_x": null,
            "overflow_y": null,
            "padding": null,
            "right": null,
            "top": null,
            "visibility": null,
            "width": null
          }
        },
        "234d4951a5d54606b658d862a4128607": {
          "model_module": "@jupyter-widgets/controls",
          "model_module_version": "1.5.0",
          "model_name": "HTMLModel",
          "state": {
            "_dom_classes": [],
            "_model_module": "@jupyter-widgets/controls",
            "_model_module_version": "1.5.0",
            "_model_name": "HTMLModel",
            "_view_count": null,
            "_view_module": "@jupyter-widgets/controls",
            "_view_module_version": "1.5.0",
            "_view_name": "HTMLView",
            "description": "",
            "description_tooltip": null,
            "layout": "IPY_MODEL_5b31496323a0474f83ea2d4b7815637d",
            "placeholder": "​",
            "style": "IPY_MODEL_c108a81b6881424a9c04e6a83c25557f",
            "value": " 20%"
          }
        },
        "3a01724790cf4576bf582785638605af": {
          "model_module": "@jupyter-widgets/controls",
          "model_module_version": "1.5.0",
          "model_name": "ProgressStyleModel",
          "state": {
            "_model_module": "@jupyter-widgets/controls",
            "_model_module_version": "1.5.0",
            "_model_name": "ProgressStyleModel",
            "_view_count": null,
            "_view_module": "@jupyter-widgets/base",
            "_view_module_version": "1.2.0",
            "_view_name": "StyleView",
            "bar_color": null,
            "description_width": ""
          }
        },
        "5b31496323a0474f83ea2d4b7815637d": {
          "model_module": "@jupyter-widgets/base",
          "model_module_version": "1.2.0",
          "model_name": "LayoutModel",
          "state": {
            "_model_module": "@jupyter-widgets/base",
            "_model_module_version": "1.2.0",
            "_model_name": "LayoutModel",
            "_view_count": null,
            "_view_module": "@jupyter-widgets/base",
            "_view_module_version": "1.2.0",
            "_view_name": "LayoutView",
            "align_content": null,
            "align_items": null,
            "align_self": null,
            "border": null,
            "bottom": null,
            "display": null,
            "flex": null,
            "flex_flow": null,
            "grid_area": null,
            "grid_auto_columns": null,
            "grid_auto_flow": null,
            "grid_auto_rows": null,
            "grid_column": null,
            "grid_gap": null,
            "grid_row": null,
            "grid_template_areas": null,
            "grid_template_columns": null,
            "grid_template_rows": null,
            "height": null,
            "justify_content": null,
            "justify_items": null,
            "left": null,
            "margin": null,
            "max_height": null,
            "max_width": null,
            "min_height": null,
            "min_width": null,
            "object_fit": null,
            "object_position": null,
            "order": null,
            "overflow": null,
            "overflow_x": null,
            "overflow_y": null,
            "padding": null,
            "right": null,
            "top": null,
            "visibility": null,
            "width": null
          }
        },
        "8cdb23c2292d49ccb24903ba280dded1": {
          "model_module": "@jupyter-widgets/base",
          "model_module_version": "1.2.0",
          "model_name": "LayoutModel",
          "state": {
            "_model_module": "@jupyter-widgets/base",
            "_model_module_version": "1.2.0",
            "_model_name": "LayoutModel",
            "_view_count": null,
            "_view_module": "@jupyter-widgets/base",
            "_view_module_version": "1.2.0",
            "_view_name": "LayoutView",
            "align_content": null,
            "align_items": null,
            "align_self": null,
            "border": null,
            "bottom": null,
            "display": null,
            "flex": null,
            "flex_flow": null,
            "grid_area": null,
            "grid_auto_columns": null,
            "grid_auto_flow": null,
            "grid_auto_rows": null,
            "grid_column": null,
            "grid_gap": null,
            "grid_row": null,
            "grid_template_areas": null,
            "grid_template_columns": null,
            "grid_template_rows": null,
            "height": null,
            "justify_content": null,
            "justify_items": null,
            "left": null,
            "margin": null,
            "max_height": null,
            "max_width": null,
            "min_height": null,
            "min_width": null,
            "object_fit": null,
            "object_position": null,
            "order": null,
            "overflow": null,
            "overflow_x": null,
            "overflow_y": null,
            "padding": null,
            "right": null,
            "top": null,
            "visibility": null,
            "width": null
          }
        },
        "8f6835f59f4f43599813e94d603ac0eb": {
          "model_module": "@jupyter-widgets/base",
          "model_module_version": "1.2.0",
          "model_name": "LayoutModel",
          "state": {
            "_model_module": "@jupyter-widgets/base",
            "_model_module_version": "1.2.0",
            "_model_name": "LayoutModel",
            "_view_count": null,
            "_view_module": "@jupyter-widgets/base",
            "_view_module_version": "1.2.0",
            "_view_name": "LayoutView",
            "align_content": null,
            "align_items": null,
            "align_self": null,
            "border": null,
            "bottom": null,
            "display": null,
            "flex": null,
            "flex_flow": null,
            "grid_area": null,
            "grid_auto_columns": null,
            "grid_auto_flow": null,
            "grid_auto_rows": null,
            "grid_column": null,
            "grid_gap": null,
            "grid_row": null,
            "grid_template_areas": null,
            "grid_template_columns": null,
            "grid_template_rows": null,
            "height": null,
            "justify_content": null,
            "justify_items": null,
            "left": null,
            "margin": null,
            "max_height": null,
            "max_width": null,
            "min_height": null,
            "min_width": null,
            "object_fit": null,
            "object_position": null,
            "order": null,
            "overflow": null,
            "overflow_x": null,
            "overflow_y": null,
            "padding": null,
            "right": null,
            "top": null,
            "visibility": null,
            "width": null
          }
        },
        "96a7ffc398594aaba68f152777d66500": {
          "model_module": "@jupyter-widgets/controls",
          "model_module_version": "1.5.0",
          "model_name": "DescriptionStyleModel",
          "state": {
            "_model_module": "@jupyter-widgets/controls",
            "_model_module_version": "1.5.0",
            "_model_name": "DescriptionStyleModel",
            "_view_count": null,
            "_view_module": "@jupyter-widgets/base",
            "_view_module_version": "1.2.0",
            "_view_name": "StyleView",
            "description_width": ""
          }
        },
        "a83ded2a56484c6bb15f85c9923f4de8": {
          "model_module": "@jupyter-widgets/controls",
          "model_module_version": "1.5.0",
          "model_name": "HBoxModel",
          "state": {
            "_dom_classes": [],
            "_model_module": "@jupyter-widgets/controls",
            "_model_module_version": "1.5.0",
            "_model_name": "HBoxModel",
            "_view_count": null,
            "_view_module": "@jupyter-widgets/controls",
            "_view_module_version": "1.5.0",
            "_view_name": "HBoxView",
            "box_style": "",
            "children": [
              "IPY_MODEL_234d4951a5d54606b658d862a4128607",
              "IPY_MODEL_be03a3cd765a4fa9bef15f2beea30018",
              "IPY_MODEL_e0fd9d72f809450ebbe52c2a8fc8bd45"
            ],
            "layout": "IPY_MODEL_8f6835f59f4f43599813e94d603ac0eb"
          }
        },
        "be03a3cd765a4fa9bef15f2beea30018": {
          "model_module": "@jupyter-widgets/controls",
          "model_module_version": "1.5.0",
          "model_name": "FloatProgressModel",
          "state": {
            "_dom_classes": [],
            "_model_module": "@jupyter-widgets/controls",
            "_model_module_version": "1.5.0",
            "_model_name": "FloatProgressModel",
            "_view_count": null,
            "_view_module": "@jupyter-widgets/controls",
            "_view_module_version": "1.5.0",
            "_view_name": "ProgressView",
            "bar_style": "",
            "description": "",
            "description_tooltip": null,
            "layout": "IPY_MODEL_8cdb23c2292d49ccb24903ba280dded1",
            "max": 1000,
            "min": 0,
            "orientation": "horizontal",
            "style": "IPY_MODEL_3a01724790cf4576bf582785638605af",
            "value": 196
          }
        },
        "c108a81b6881424a9c04e6a83c25557f": {
          "model_module": "@jupyter-widgets/controls",
          "model_module_version": "1.5.0",
          "model_name": "DescriptionStyleModel",
          "state": {
            "_model_module": "@jupyter-widgets/controls",
            "_model_module_version": "1.5.0",
            "_model_name": "DescriptionStyleModel",
            "_view_count": null,
            "_view_module": "@jupyter-widgets/base",
            "_view_module_version": "1.2.0",
            "_view_name": "StyleView",
            "description_width": ""
          }
        },
        "e0fd9d72f809450ebbe52c2a8fc8bd45": {
          "model_module": "@jupyter-widgets/controls",
          "model_module_version": "1.5.0",
          "model_name": "HTMLModel",
          "state": {
            "_dom_classes": [],
            "_model_module": "@jupyter-widgets/controls",
            "_model_module_version": "1.5.0",
            "_model_name": "HTMLModel",
            "_view_count": null,
            "_view_module": "@jupyter-widgets/controls",
            "_view_module_version": "1.5.0",
            "_view_name": "HTMLView",
            "description": "",
            "description_tooltip": null,
            "layout": "IPY_MODEL_1445bbd64b6146dc88efb8ba49c92302",
            "placeholder": "​",
            "style": "IPY_MODEL_96a7ffc398594aaba68f152777d66500",
            "value": " 196/1000 [00:17&lt;01:09, 11.64it/s]"
          }
        },
        "f235cc7164fc48388aea2be037bf5fce": {
          "model_module": "@jupyter-widgets/controls",
          "model_name": "HBoxModel",
          "model_module_version": "1.5.0",
          "state": {
            "_dom_classes": [],
            "_model_module": "@jupyter-widgets/controls",
            "_model_module_version": "1.5.0",
            "_model_name": "HBoxModel",
            "_view_count": null,
            "_view_module": "@jupyter-widgets/controls",
            "_view_module_version": "1.5.0",
            "_view_name": "HBoxView",
            "box_style": "",
            "children": [
              "IPY_MODEL_9cf426a03a0f4b6f91b1e93073c156c6",
              "IPY_MODEL_e85b3f4873644a6cb04e165b87f39401",
              "IPY_MODEL_3112a7114a654848badf801695276d50"
            ],
            "layout": "IPY_MODEL_35fe19d59c7a4a70870b355d8b1fee79"
          }
        },
        "9cf426a03a0f4b6f91b1e93073c156c6": {
          "model_module": "@jupyter-widgets/controls",
          "model_name": "HTMLModel",
          "model_module_version": "1.5.0",
          "state": {
            "_dom_classes": [],
            "_model_module": "@jupyter-widgets/controls",
            "_model_module_version": "1.5.0",
            "_model_name": "HTMLModel",
            "_view_count": null,
            "_view_module": "@jupyter-widgets/controls",
            "_view_module_version": "1.5.0",
            "_view_name": "HTMLView",
            "description": "",
            "description_tooltip": null,
            "layout": "IPY_MODEL_985dae42973b4410a48f9f7d7ccbeea0",
            "placeholder": "​",
            "style": "IPY_MODEL_99dfee8519824829aaad9f44a59a41fa",
            "value": "  0%"
          }
        },
        "e85b3f4873644a6cb04e165b87f39401": {
          "model_module": "@jupyter-widgets/controls",
          "model_name": "FloatProgressModel",
          "model_module_version": "1.5.0",
          "state": {
            "_dom_classes": [],
            "_model_module": "@jupyter-widgets/controls",
            "_model_module_version": "1.5.0",
            "_model_name": "FloatProgressModel",
            "_view_count": null,
            "_view_module": "@jupyter-widgets/controls",
            "_view_module_version": "1.5.0",
            "_view_name": "ProgressView",
            "bar_style": "danger",
            "description": "",
            "description_tooltip": null,
            "layout": "IPY_MODEL_32e15f7a44a3407abc92dd16a19c89e4",
            "max": 5,
            "min": 0,
            "orientation": "horizontal",
            "style": "IPY_MODEL_3c62e675e30c41bf9825f4b53c263bc9",
            "value": 0
          }
        },
        "3112a7114a654848badf801695276d50": {
          "model_module": "@jupyter-widgets/controls",
          "model_name": "HTMLModel",
          "model_module_version": "1.5.0",
          "state": {
            "_dom_classes": [],
            "_model_module": "@jupyter-widgets/controls",
            "_model_module_version": "1.5.0",
            "_model_name": "HTMLModel",
            "_view_count": null,
            "_view_module": "@jupyter-widgets/controls",
            "_view_module_version": "1.5.0",
            "_view_name": "HTMLView",
            "description": "",
            "description_tooltip": null,
            "layout": "IPY_MODEL_56a81fec9bf4476f8f6597f1a5f07d31",
            "placeholder": "​",
            "style": "IPY_MODEL_d60d103a3abf4e2a877fdda07de05e07",
            "value": " 0/5 [00:00&lt;?, ?it/s]"
          }
        },
        "35fe19d59c7a4a70870b355d8b1fee79": {
          "model_module": "@jupyter-widgets/base",
          "model_name": "LayoutModel",
          "model_module_version": "1.2.0",
          "state": {
            "_model_module": "@jupyter-widgets/base",
            "_model_module_version": "1.2.0",
            "_model_name": "LayoutModel",
            "_view_count": null,
            "_view_module": "@jupyter-widgets/base",
            "_view_module_version": "1.2.0",
            "_view_name": "LayoutView",
            "align_content": null,
            "align_items": null,
            "align_self": null,
            "border": null,
            "bottom": null,
            "display": null,
            "flex": null,
            "flex_flow": null,
            "grid_area": null,
            "grid_auto_columns": null,
            "grid_auto_flow": null,
            "grid_auto_rows": null,
            "grid_column": null,
            "grid_gap": null,
            "grid_row": null,
            "grid_template_areas": null,
            "grid_template_columns": null,
            "grid_template_rows": null,
            "height": null,
            "justify_content": null,
            "justify_items": null,
            "left": null,
            "margin": null,
            "max_height": null,
            "max_width": null,
            "min_height": null,
            "min_width": null,
            "object_fit": null,
            "object_position": null,
            "order": null,
            "overflow": null,
            "overflow_x": null,
            "overflow_y": null,
            "padding": null,
            "right": null,
            "top": null,
            "visibility": null,
            "width": null
          }
        },
        "985dae42973b4410a48f9f7d7ccbeea0": {
          "model_module": "@jupyter-widgets/base",
          "model_name": "LayoutModel",
          "model_module_version": "1.2.0",
          "state": {
            "_model_module": "@jupyter-widgets/base",
            "_model_module_version": "1.2.0",
            "_model_name": "LayoutModel",
            "_view_count": null,
            "_view_module": "@jupyter-widgets/base",
            "_view_module_version": "1.2.0",
            "_view_name": "LayoutView",
            "align_content": null,
            "align_items": null,
            "align_self": null,
            "border": null,
            "bottom": null,
            "display": null,
            "flex": null,
            "flex_flow": null,
            "grid_area": null,
            "grid_auto_columns": null,
            "grid_auto_flow": null,
            "grid_auto_rows": null,
            "grid_column": null,
            "grid_gap": null,
            "grid_row": null,
            "grid_template_areas": null,
            "grid_template_columns": null,
            "grid_template_rows": null,
            "height": null,
            "justify_content": null,
            "justify_items": null,
            "left": null,
            "margin": null,
            "max_height": null,
            "max_width": null,
            "min_height": null,
            "min_width": null,
            "object_fit": null,
            "object_position": null,
            "order": null,
            "overflow": null,
            "overflow_x": null,
            "overflow_y": null,
            "padding": null,
            "right": null,
            "top": null,
            "visibility": null,
            "width": null
          }
        },
        "99dfee8519824829aaad9f44a59a41fa": {
          "model_module": "@jupyter-widgets/controls",
          "model_name": "DescriptionStyleModel",
          "model_module_version": "1.5.0",
          "state": {
            "_model_module": "@jupyter-widgets/controls",
            "_model_module_version": "1.5.0",
            "_model_name": "DescriptionStyleModel",
            "_view_count": null,
            "_view_module": "@jupyter-widgets/base",
            "_view_module_version": "1.2.0",
            "_view_name": "StyleView",
            "description_width": ""
          }
        },
        "32e15f7a44a3407abc92dd16a19c89e4": {
          "model_module": "@jupyter-widgets/base",
          "model_name": "LayoutModel",
          "model_module_version": "1.2.0",
          "state": {
            "_model_module": "@jupyter-widgets/base",
            "_model_module_version": "1.2.0",
            "_model_name": "LayoutModel",
            "_view_count": null,
            "_view_module": "@jupyter-widgets/base",
            "_view_module_version": "1.2.0",
            "_view_name": "LayoutView",
            "align_content": null,
            "align_items": null,
            "align_self": null,
            "border": null,
            "bottom": null,
            "display": null,
            "flex": null,
            "flex_flow": null,
            "grid_area": null,
            "grid_auto_columns": null,
            "grid_auto_flow": null,
            "grid_auto_rows": null,
            "grid_column": null,
            "grid_gap": null,
            "grid_row": null,
            "grid_template_areas": null,
            "grid_template_columns": null,
            "grid_template_rows": null,
            "height": null,
            "justify_content": null,
            "justify_items": null,
            "left": null,
            "margin": null,
            "max_height": null,
            "max_width": null,
            "min_height": null,
            "min_width": null,
            "object_fit": null,
            "object_position": null,
            "order": null,
            "overflow": null,
            "overflow_x": null,
            "overflow_y": null,
            "padding": null,
            "right": null,
            "top": null,
            "visibility": null,
            "width": null
          }
        },
        "3c62e675e30c41bf9825f4b53c263bc9": {
          "model_module": "@jupyter-widgets/controls",
          "model_name": "ProgressStyleModel",
          "model_module_version": "1.5.0",
          "state": {
            "_model_module": "@jupyter-widgets/controls",
            "_model_module_version": "1.5.0",
            "_model_name": "ProgressStyleModel",
            "_view_count": null,
            "_view_module": "@jupyter-widgets/base",
            "_view_module_version": "1.2.0",
            "_view_name": "StyleView",
            "bar_color": null,
            "description_width": ""
          }
        },
        "56a81fec9bf4476f8f6597f1a5f07d31": {
          "model_module": "@jupyter-widgets/base",
          "model_name": "LayoutModel",
          "model_module_version": "1.2.0",
          "state": {
            "_model_module": "@jupyter-widgets/base",
            "_model_module_version": "1.2.0",
            "_model_name": "LayoutModel",
            "_view_count": null,
            "_view_module": "@jupyter-widgets/base",
            "_view_module_version": "1.2.0",
            "_view_name": "LayoutView",
            "align_content": null,
            "align_items": null,
            "align_self": null,
            "border": null,
            "bottom": null,
            "display": null,
            "flex": null,
            "flex_flow": null,
            "grid_area": null,
            "grid_auto_columns": null,
            "grid_auto_flow": null,
            "grid_auto_rows": null,
            "grid_column": null,
            "grid_gap": null,
            "grid_row": null,
            "grid_template_areas": null,
            "grid_template_columns": null,
            "grid_template_rows": null,
            "height": null,
            "justify_content": null,
            "justify_items": null,
            "left": null,
            "margin": null,
            "max_height": null,
            "max_width": null,
            "min_height": null,
            "min_width": null,
            "object_fit": null,
            "object_position": null,
            "order": null,
            "overflow": null,
            "overflow_x": null,
            "overflow_y": null,
            "padding": null,
            "right": null,
            "top": null,
            "visibility": null,
            "width": null
          }
        },
        "d60d103a3abf4e2a877fdda07de05e07": {
          "model_module": "@jupyter-widgets/controls",
          "model_name": "DescriptionStyleModel",
          "model_module_version": "1.5.0",
          "state": {
            "_model_module": "@jupyter-widgets/controls",
            "_model_module_version": "1.5.0",
            "_model_name": "DescriptionStyleModel",
            "_view_count": null,
            "_view_module": "@jupyter-widgets/base",
            "_view_module_version": "1.2.0",
            "_view_name": "StyleView",
            "description_width": ""
          }
        },
        "9471f48e660e4f388944c24689353081": {
          "model_module": "@jupyter-widgets/controls",
          "model_name": "HBoxModel",
          "model_module_version": "1.5.0",
          "state": {
            "_dom_classes": [],
            "_model_module": "@jupyter-widgets/controls",
            "_model_module_version": "1.5.0",
            "_model_name": "HBoxModel",
            "_view_count": null,
            "_view_module": "@jupyter-widgets/controls",
            "_view_module_version": "1.5.0",
            "_view_name": "HBoxView",
            "box_style": "",
            "children": [
              "IPY_MODEL_42d017e061e64fcfa1548d5dacf28048",
              "IPY_MODEL_6b9ebb19c4424e659c5d0bde180be84f",
              "IPY_MODEL_6d6e30b375df4987b3acc09ae93b79b3"
            ],
            "layout": "IPY_MODEL_0d77dc75927349cdb6a5db0879ce08a1"
          }
        },
        "42d017e061e64fcfa1548d5dacf28048": {
          "model_module": "@jupyter-widgets/controls",
          "model_name": "HTMLModel",
          "model_module_version": "1.5.0",
          "state": {
            "_dom_classes": [],
            "_model_module": "@jupyter-widgets/controls",
            "_model_module_version": "1.5.0",
            "_model_name": "HTMLModel",
            "_view_count": null,
            "_view_module": "@jupyter-widgets/controls",
            "_view_module_version": "1.5.0",
            "_view_name": "HTMLView",
            "description": "",
            "description_tooltip": null,
            "layout": "IPY_MODEL_131471436f1f47b29376913877e4ece9",
            "placeholder": "​",
            "style": "IPY_MODEL_f90c0de52f1142228cba07baeab8d61f",
            "value": "  0%"
          }
        },
        "6b9ebb19c4424e659c5d0bde180be84f": {
          "model_module": "@jupyter-widgets/controls",
          "model_name": "FloatProgressModel",
          "model_module_version": "1.5.0",
          "state": {
            "_dom_classes": [],
            "_model_module": "@jupyter-widgets/controls",
            "_model_module_version": "1.5.0",
            "_model_name": "FloatProgressModel",
            "_view_count": null,
            "_view_module": "@jupyter-widgets/controls",
            "_view_module_version": "1.5.0",
            "_view_name": "ProgressView",
            "bar_style": "danger",
            "description": "",
            "description_tooltip": null,
            "layout": "IPY_MODEL_06e4d2a2c8724ddeba65f110172a8dcc",
            "max": 1,
            "min": 0,
            "orientation": "horizontal",
            "style": "IPY_MODEL_a5b989d4c206452fa533456b1daf2827",
            "value": 0
          }
        },
        "6d6e30b375df4987b3acc09ae93b79b3": {
          "model_module": "@jupyter-widgets/controls",
          "model_name": "HTMLModel",
          "model_module_version": "1.5.0",
          "state": {
            "_dom_classes": [],
            "_model_module": "@jupyter-widgets/controls",
            "_model_module_version": "1.5.0",
            "_model_name": "HTMLModel",
            "_view_count": null,
            "_view_module": "@jupyter-widgets/controls",
            "_view_module_version": "1.5.0",
            "_view_name": "HTMLView",
            "description": "",
            "description_tooltip": null,
            "layout": "IPY_MODEL_5bdd6285b1354087bf8104fd31150b9e",
            "placeholder": "​",
            "style": "IPY_MODEL_74ef6b7ff9e54cf2a5d4abbbd98a64c9",
            "value": " 0/1 [00:00&lt;?, ?it/s]"
          }
        },
        "0d77dc75927349cdb6a5db0879ce08a1": {
          "model_module": "@jupyter-widgets/base",
          "model_name": "LayoutModel",
          "model_module_version": "1.2.0",
          "state": {
            "_model_module": "@jupyter-widgets/base",
            "_model_module_version": "1.2.0",
            "_model_name": "LayoutModel",
            "_view_count": null,
            "_view_module": "@jupyter-widgets/base",
            "_view_module_version": "1.2.0",
            "_view_name": "LayoutView",
            "align_content": null,
            "align_items": null,
            "align_self": null,
            "border": null,
            "bottom": null,
            "display": null,
            "flex": null,
            "flex_flow": null,
            "grid_area": null,
            "grid_auto_columns": null,
            "grid_auto_flow": null,
            "grid_auto_rows": null,
            "grid_column": null,
            "grid_gap": null,
            "grid_row": null,
            "grid_template_areas": null,
            "grid_template_columns": null,
            "grid_template_rows": null,
            "height": null,
            "justify_content": null,
            "justify_items": null,
            "left": null,
            "margin": null,
            "max_height": null,
            "max_width": null,
            "min_height": null,
            "min_width": null,
            "object_fit": null,
            "object_position": null,
            "order": null,
            "overflow": null,
            "overflow_x": null,
            "overflow_y": null,
            "padding": null,
            "right": null,
            "top": null,
            "visibility": null,
            "width": null
          }
        },
        "131471436f1f47b29376913877e4ece9": {
          "model_module": "@jupyter-widgets/base",
          "model_name": "LayoutModel",
          "model_module_version": "1.2.0",
          "state": {
            "_model_module": "@jupyter-widgets/base",
            "_model_module_version": "1.2.0",
            "_model_name": "LayoutModel",
            "_view_count": null,
            "_view_module": "@jupyter-widgets/base",
            "_view_module_version": "1.2.0",
            "_view_name": "LayoutView",
            "align_content": null,
            "align_items": null,
            "align_self": null,
            "border": null,
            "bottom": null,
            "display": null,
            "flex": null,
            "flex_flow": null,
            "grid_area": null,
            "grid_auto_columns": null,
            "grid_auto_flow": null,
            "grid_auto_rows": null,
            "grid_column": null,
            "grid_gap": null,
            "grid_row": null,
            "grid_template_areas": null,
            "grid_template_columns": null,
            "grid_template_rows": null,
            "height": null,
            "justify_content": null,
            "justify_items": null,
            "left": null,
            "margin": null,
            "max_height": null,
            "max_width": null,
            "min_height": null,
            "min_width": null,
            "object_fit": null,
            "object_position": null,
            "order": null,
            "overflow": null,
            "overflow_x": null,
            "overflow_y": null,
            "padding": null,
            "right": null,
            "top": null,
            "visibility": null,
            "width": null
          }
        },
        "f90c0de52f1142228cba07baeab8d61f": {
          "model_module": "@jupyter-widgets/controls",
          "model_name": "DescriptionStyleModel",
          "model_module_version": "1.5.0",
          "state": {
            "_model_module": "@jupyter-widgets/controls",
            "_model_module_version": "1.5.0",
            "_model_name": "DescriptionStyleModel",
            "_view_count": null,
            "_view_module": "@jupyter-widgets/base",
            "_view_module_version": "1.2.0",
            "_view_name": "StyleView",
            "description_width": ""
          }
        },
        "06e4d2a2c8724ddeba65f110172a8dcc": {
          "model_module": "@jupyter-widgets/base",
          "model_name": "LayoutModel",
          "model_module_version": "1.2.0",
          "state": {
            "_model_module": "@jupyter-widgets/base",
            "_model_module_version": "1.2.0",
            "_model_name": "LayoutModel",
            "_view_count": null,
            "_view_module": "@jupyter-widgets/base",
            "_view_module_version": "1.2.0",
            "_view_name": "LayoutView",
            "align_content": null,
            "align_items": null,
            "align_self": null,
            "border": null,
            "bottom": null,
            "display": null,
            "flex": null,
            "flex_flow": null,
            "grid_area": null,
            "grid_auto_columns": null,
            "grid_auto_flow": null,
            "grid_auto_rows": null,
            "grid_column": null,
            "grid_gap": null,
            "grid_row": null,
            "grid_template_areas": null,
            "grid_template_columns": null,
            "grid_template_rows": null,
            "height": null,
            "justify_content": null,
            "justify_items": null,
            "left": null,
            "margin": null,
            "max_height": null,
            "max_width": null,
            "min_height": null,
            "min_width": null,
            "object_fit": null,
            "object_position": null,
            "order": null,
            "overflow": null,
            "overflow_x": null,
            "overflow_y": null,
            "padding": null,
            "right": null,
            "top": null,
            "visibility": null,
            "width": null
          }
        },
        "a5b989d4c206452fa533456b1daf2827": {
          "model_module": "@jupyter-widgets/controls",
          "model_name": "ProgressStyleModel",
          "model_module_version": "1.5.0",
          "state": {
            "_model_module": "@jupyter-widgets/controls",
            "_model_module_version": "1.5.0",
            "_model_name": "ProgressStyleModel",
            "_view_count": null,
            "_view_module": "@jupyter-widgets/base",
            "_view_module_version": "1.2.0",
            "_view_name": "StyleView",
            "bar_color": null,
            "description_width": ""
          }
        },
        "5bdd6285b1354087bf8104fd31150b9e": {
          "model_module": "@jupyter-widgets/base",
          "model_name": "LayoutModel",
          "model_module_version": "1.2.0",
          "state": {
            "_model_module": "@jupyter-widgets/base",
            "_model_module_version": "1.2.0",
            "_model_name": "LayoutModel",
            "_view_count": null,
            "_view_module": "@jupyter-widgets/base",
            "_view_module_version": "1.2.0",
            "_view_name": "LayoutView",
            "align_content": null,
            "align_items": null,
            "align_self": null,
            "border": null,
            "bottom": null,
            "display": null,
            "flex": null,
            "flex_flow": null,
            "grid_area": null,
            "grid_auto_columns": null,
            "grid_auto_flow": null,
            "grid_auto_rows": null,
            "grid_column": null,
            "grid_gap": null,
            "grid_row": null,
            "grid_template_areas": null,
            "grid_template_columns": null,
            "grid_template_rows": null,
            "height": null,
            "justify_content": null,
            "justify_items": null,
            "left": null,
            "margin": null,
            "max_height": null,
            "max_width": null,
            "min_height": null,
            "min_width": null,
            "object_fit": null,
            "object_position": null,
            "order": null,
            "overflow": null,
            "overflow_x": null,
            "overflow_y": null,
            "padding": null,
            "right": null,
            "top": null,
            "visibility": null,
            "width": null
          }
        },
        "74ef6b7ff9e54cf2a5d4abbbd98a64c9": {
          "model_module": "@jupyter-widgets/controls",
          "model_name": "DescriptionStyleModel",
          "model_module_version": "1.5.0",
          "state": {
            "_model_module": "@jupyter-widgets/controls",
            "_model_module_version": "1.5.0",
            "_model_name": "DescriptionStyleModel",
            "_view_count": null,
            "_view_module": "@jupyter-widgets/base",
            "_view_module_version": "1.2.0",
            "_view_name": "StyleView",
            "description_width": ""
          }
        },
        "9064cc475ac34767b98d3adc8a86cb3d": {
          "model_module": "@jupyter-widgets/controls",
          "model_name": "HBoxModel",
          "model_module_version": "1.5.0",
          "state": {
            "_dom_classes": [],
            "_model_module": "@jupyter-widgets/controls",
            "_model_module_version": "1.5.0",
            "_model_name": "HBoxModel",
            "_view_count": null,
            "_view_module": "@jupyter-widgets/controls",
            "_view_module_version": "1.5.0",
            "_view_name": "HBoxView",
            "box_style": "",
            "children": [
              "IPY_MODEL_61f1706f149b45d6bf69c93e0e740a34",
              "IPY_MODEL_d0bbfe0c7a4b43959d15eabf867e5f10",
              "IPY_MODEL_bf81cbd76b3342d68d2805873ede22d4"
            ],
            "layout": "IPY_MODEL_e79a0ac859f5435cba68a581a52816a7"
          }
        },
        "61f1706f149b45d6bf69c93e0e740a34": {
          "model_module": "@jupyter-widgets/controls",
          "model_name": "HTMLModel",
          "model_module_version": "1.5.0",
          "state": {
            "_dom_classes": [],
            "_model_module": "@jupyter-widgets/controls",
            "_model_module_version": "1.5.0",
            "_model_name": "HTMLModel",
            "_view_count": null,
            "_view_module": "@jupyter-widgets/controls",
            "_view_module_version": "1.5.0",
            "_view_name": "HTMLView",
            "description": "",
            "description_tooltip": null,
            "layout": "IPY_MODEL_d5dc172ff80d4d2283b8a9ed4719d3dd",
            "placeholder": "​",
            "style": "IPY_MODEL_477a51cbb0f44390a2cf053a8c99d896",
            "value": "  0%"
          }
        },
        "d0bbfe0c7a4b43959d15eabf867e5f10": {
          "model_module": "@jupyter-widgets/controls",
          "model_name": "FloatProgressModel",
          "model_module_version": "1.5.0",
          "state": {
            "_dom_classes": [],
            "_model_module": "@jupyter-widgets/controls",
            "_model_module_version": "1.5.0",
            "_model_name": "FloatProgressModel",
            "_view_count": null,
            "_view_module": "@jupyter-widgets/controls",
            "_view_module_version": "1.5.0",
            "_view_name": "ProgressView",
            "bar_style": "danger",
            "description": "",
            "description_tooltip": null,
            "layout": "IPY_MODEL_4b5496288f694024ae0490fc689c96f9",
            "max": 20,
            "min": 0,
            "orientation": "horizontal",
            "style": "IPY_MODEL_5c6e3f6995af44c195f03a607fc1b2d7",
            "value": 0
          }
        },
        "bf81cbd76b3342d68d2805873ede22d4": {
          "model_module": "@jupyter-widgets/controls",
          "model_name": "HTMLModel",
          "model_module_version": "1.5.0",
          "state": {
            "_dom_classes": [],
            "_model_module": "@jupyter-widgets/controls",
            "_model_module_version": "1.5.0",
            "_model_name": "HTMLModel",
            "_view_count": null,
            "_view_module": "@jupyter-widgets/controls",
            "_view_module_version": "1.5.0",
            "_view_name": "HTMLView",
            "description": "",
            "description_tooltip": null,
            "layout": "IPY_MODEL_e159096e96d34cd3a26c2576a7fe742e",
            "placeholder": "​",
            "style": "IPY_MODEL_878b157bcbb24dacbaf6a6233a141110",
            "value": " 0/20 [00:00&lt;?, ?it/s]"
          }
        },
        "e79a0ac859f5435cba68a581a52816a7": {
          "model_module": "@jupyter-widgets/base",
          "model_name": "LayoutModel",
          "model_module_version": "1.2.0",
          "state": {
            "_model_module": "@jupyter-widgets/base",
            "_model_module_version": "1.2.0",
            "_model_name": "LayoutModel",
            "_view_count": null,
            "_view_module": "@jupyter-widgets/base",
            "_view_module_version": "1.2.0",
            "_view_name": "LayoutView",
            "align_content": null,
            "align_items": null,
            "align_self": null,
            "border": null,
            "bottom": null,
            "display": null,
            "flex": null,
            "flex_flow": null,
            "grid_area": null,
            "grid_auto_columns": null,
            "grid_auto_flow": null,
            "grid_auto_rows": null,
            "grid_column": null,
            "grid_gap": null,
            "grid_row": null,
            "grid_template_areas": null,
            "grid_template_columns": null,
            "grid_template_rows": null,
            "height": null,
            "justify_content": null,
            "justify_items": null,
            "left": null,
            "margin": null,
            "max_height": null,
            "max_width": null,
            "min_height": null,
            "min_width": null,
            "object_fit": null,
            "object_position": null,
            "order": null,
            "overflow": null,
            "overflow_x": null,
            "overflow_y": null,
            "padding": null,
            "right": null,
            "top": null,
            "visibility": null,
            "width": null
          }
        },
        "d5dc172ff80d4d2283b8a9ed4719d3dd": {
          "model_module": "@jupyter-widgets/base",
          "model_name": "LayoutModel",
          "model_module_version": "1.2.0",
          "state": {
            "_model_module": "@jupyter-widgets/base",
            "_model_module_version": "1.2.0",
            "_model_name": "LayoutModel",
            "_view_count": null,
            "_view_module": "@jupyter-widgets/base",
            "_view_module_version": "1.2.0",
            "_view_name": "LayoutView",
            "align_content": null,
            "align_items": null,
            "align_self": null,
            "border": null,
            "bottom": null,
            "display": null,
            "flex": null,
            "flex_flow": null,
            "grid_area": null,
            "grid_auto_columns": null,
            "grid_auto_flow": null,
            "grid_auto_rows": null,
            "grid_column": null,
            "grid_gap": null,
            "grid_row": null,
            "grid_template_areas": null,
            "grid_template_columns": null,
            "grid_template_rows": null,
            "height": null,
            "justify_content": null,
            "justify_items": null,
            "left": null,
            "margin": null,
            "max_height": null,
            "max_width": null,
            "min_height": null,
            "min_width": null,
            "object_fit": null,
            "object_position": null,
            "order": null,
            "overflow": null,
            "overflow_x": null,
            "overflow_y": null,
            "padding": null,
            "right": null,
            "top": null,
            "visibility": null,
            "width": null
          }
        },
        "477a51cbb0f44390a2cf053a8c99d896": {
          "model_module": "@jupyter-widgets/controls",
          "model_name": "DescriptionStyleModel",
          "model_module_version": "1.5.0",
          "state": {
            "_model_module": "@jupyter-widgets/controls",
            "_model_module_version": "1.5.0",
            "_model_name": "DescriptionStyleModel",
            "_view_count": null,
            "_view_module": "@jupyter-widgets/base",
            "_view_module_version": "1.2.0",
            "_view_name": "StyleView",
            "description_width": ""
          }
        },
        "4b5496288f694024ae0490fc689c96f9": {
          "model_module": "@jupyter-widgets/base",
          "model_name": "LayoutModel",
          "model_module_version": "1.2.0",
          "state": {
            "_model_module": "@jupyter-widgets/base",
            "_model_module_version": "1.2.0",
            "_model_name": "LayoutModel",
            "_view_count": null,
            "_view_module": "@jupyter-widgets/base",
            "_view_module_version": "1.2.0",
            "_view_name": "LayoutView",
            "align_content": null,
            "align_items": null,
            "align_self": null,
            "border": null,
            "bottom": null,
            "display": null,
            "flex": null,
            "flex_flow": null,
            "grid_area": null,
            "grid_auto_columns": null,
            "grid_auto_flow": null,
            "grid_auto_rows": null,
            "grid_column": null,
            "grid_gap": null,
            "grid_row": null,
            "grid_template_areas": null,
            "grid_template_columns": null,
            "grid_template_rows": null,
            "height": null,
            "justify_content": null,
            "justify_items": null,
            "left": null,
            "margin": null,
            "max_height": null,
            "max_width": null,
            "min_height": null,
            "min_width": null,
            "object_fit": null,
            "object_position": null,
            "order": null,
            "overflow": null,
            "overflow_x": null,
            "overflow_y": null,
            "padding": null,
            "right": null,
            "top": null,
            "visibility": null,
            "width": null
          }
        },
        "5c6e3f6995af44c195f03a607fc1b2d7": {
          "model_module": "@jupyter-widgets/controls",
          "model_name": "ProgressStyleModel",
          "model_module_version": "1.5.0",
          "state": {
            "_model_module": "@jupyter-widgets/controls",
            "_model_module_version": "1.5.0",
            "_model_name": "ProgressStyleModel",
            "_view_count": null,
            "_view_module": "@jupyter-widgets/base",
            "_view_module_version": "1.2.0",
            "_view_name": "StyleView",
            "bar_color": null,
            "description_width": ""
          }
        },
        "e159096e96d34cd3a26c2576a7fe742e": {
          "model_module": "@jupyter-widgets/base",
          "model_name": "LayoutModel",
          "model_module_version": "1.2.0",
          "state": {
            "_model_module": "@jupyter-widgets/base",
            "_model_module_version": "1.2.0",
            "_model_name": "LayoutModel",
            "_view_count": null,
            "_view_module": "@jupyter-widgets/base",
            "_view_module_version": "1.2.0",
            "_view_name": "LayoutView",
            "align_content": null,
            "align_items": null,
            "align_self": null,
            "border": null,
            "bottom": null,
            "display": null,
            "flex": null,
            "flex_flow": null,
            "grid_area": null,
            "grid_auto_columns": null,
            "grid_auto_flow": null,
            "grid_auto_rows": null,
            "grid_column": null,
            "grid_gap": null,
            "grid_row": null,
            "grid_template_areas": null,
            "grid_template_columns": null,
            "grid_template_rows": null,
            "height": null,
            "justify_content": null,
            "justify_items": null,
            "left": null,
            "margin": null,
            "max_height": null,
            "max_width": null,
            "min_height": null,
            "min_width": null,
            "object_fit": null,
            "object_position": null,
            "order": null,
            "overflow": null,
            "overflow_x": null,
            "overflow_y": null,
            "padding": null,
            "right": null,
            "top": null,
            "visibility": null,
            "width": null
          }
        },
        "878b157bcbb24dacbaf6a6233a141110": {
          "model_module": "@jupyter-widgets/controls",
          "model_name": "DescriptionStyleModel",
          "model_module_version": "1.5.0",
          "state": {
            "_model_module": "@jupyter-widgets/controls",
            "_model_module_version": "1.5.0",
            "_model_name": "DescriptionStyleModel",
            "_view_count": null,
            "_view_module": "@jupyter-widgets/base",
            "_view_module_version": "1.2.0",
            "_view_name": "StyleView",
            "description_width": ""
          }
        }
      }
    }
  },
  "nbformat": 4,
  "nbformat_minor": 5
}